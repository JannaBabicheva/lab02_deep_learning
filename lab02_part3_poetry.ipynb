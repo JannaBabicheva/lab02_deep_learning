{
  "cells": [
    {
      "cell_type": "markdown",
      "metadata": {
        "id": "view-in-github",
        "colab_type": "text"
      },
      "source": [
        "<a href=\"https://colab.research.google.com/github/JannaBabicheva/lab02_deep_learning/blob/main/lab02_part3_poetry.ipynb\" target=\"_parent\"><img src=\"https://colab.research.google.com/assets/colab-badge.svg\" alt=\"Open In Colab\"/></a>"
      ]
    },
    {
      "cell_type": "markdown",
      "metadata": {
        "id": "6c7uXT_DqpM_"
      },
      "source": [
        "## Lab 2"
      ]
    },
    {
      "cell_type": "markdown",
      "metadata": {
        "id": "bQ_tu9_KqpNC"
      },
      "source": [
        "### Part 3. Poetry generation\n",
        "\n",
        "Let's try to generate some poetry using RNNs.\n",
        "\n",
        "You have several choices here:\n",
        "\n",
        "* The Shakespeare sonnets, file `sonnets.txt` available in the notebook directory.\n",
        "\n",
        "* Роман в стихах \"Евгений Онегин\" Александра Сергеевича Пушкина. В предобработанном виде доступен по [ссылке](https://github.com/attatrol/data_sources/blob/master/onegin.txt).\n",
        "\n",
        "* Some other text source, if it will be approved by the course staff.\n",
        "\n",
        "Text generation can be designed in several steps:\n",
        "    \n",
        "1. Data loading.\n",
        "2. Dictionary generation.\n",
        "3. Data preprocessing.\n",
        "4. Model (neural network) training.\n",
        "5. Text generation (model evaluation).\n"
      ]
    },
    {
      "cell_type": "code",
      "execution_count": 1,
      "metadata": {
        "id": "9HzeJwIoqpND"
      },
      "outputs": [],
      "source": [
        "import string\n",
        "import os"
      ]
    },
    {
      "cell_type": "markdown",
      "metadata": {
        "id": "OVvV1s2nqpNF"
      },
      "source": [
        "### Data loading: \"Евгений Онегин\"\n"
      ]
    },
    {
      "cell_type": "code",
      "execution_count": 2,
      "metadata": {
        "colab": {
          "base_uri": "https://localhost:8080/"
        },
        "id": "M7p6kDxxqpNF",
        "outputId": "be8b44dc-3e88-44ee-8a63-b74338304562"
      },
      "outputs": [
        {
          "output_type": "stream",
          "name": "stdout",
          "text": [
            "--2024-12-14 20:55:19--  https://raw.githubusercontent.com/attatrol/data_sources/master/onegin.txt\n",
            "Resolving raw.githubusercontent.com (raw.githubusercontent.com)... 185.199.108.133, 185.199.109.133, 185.199.110.133, ...\n",
            "Connecting to raw.githubusercontent.com (raw.githubusercontent.com)|185.199.108.133|:443... connected.\n",
            "HTTP request sent, awaiting response... 200 OK\n",
            "Length: 262521 (256K) [text/plain]\n",
            "Saving to: ‘onegin.txt.3’\n",
            "\n",
            "\ronegin.txt.3          0%[                    ]       0  --.-KB/s               \ronegin.txt.3        100%[===================>] 256.37K  --.-KB/s    in 0.04s   \n",
            "\n",
            "2024-12-14 20:55:20 (6.95 MB/s) - ‘onegin.txt.3’ saved [262521/262521]\n",
            "\n"
          ]
        }
      ],
      "source": [
        "!wget https://raw.githubusercontent.com/attatrol/data_sources/master/onegin.txt\n",
        "\n",
        "with open('onegin.txt', 'r') as iofile:\n",
        "    text = iofile.readlines()\n",
        "\n",
        "text = [x.replace('\\t\\t', '') for x in text]"
      ]
    },
    {
      "cell_type": "markdown",
      "metadata": {
        "id": "v8FnIGbsqpNG"
      },
      "source": [
        "In opposite to the in-class practice, this time we want to predict complex text. Let's reduce the complexity of the task and lowercase all the symbols.\n",
        "\n",
        "Now variable `text` is a list of strings. Join all the strings into one and lowercase it."
      ]
    },
    {
      "cell_type": "code",
      "source": [
        "# Объединяем все строки в одну и приводим к нижнему регистру\n",
        "text = ''.join(text).lower()"
      ],
      "metadata": {
        "id": "ILfuQ-Werwez"
      },
      "execution_count": 3,
      "outputs": []
    },
    {
      "cell_type": "markdown",
      "metadata": {
        "id": "eKr_buzEqpNG"
      },
      "source": [
        "Put all the characters, that you've seen in the text, into variable `tokens`."
      ]
    },
    {
      "cell_type": "code",
      "execution_count": 4,
      "metadata": {
        "id": "jjhuZIGxqpNG"
      },
      "outputs": [],
      "source": [
        "# Создаем набор уникальных символов\n",
        "tokens = sorted(set(text))"
      ]
    },
    {
      "cell_type": "markdown",
      "metadata": {
        "id": "kw_W-7KQqpNG"
      },
      "source": [
        "Create dictionary `token_to_idx = {<char>: <index>}` and dictionary `idx_to_token = {<index>: <char>}`"
      ]
    },
    {
      "cell_type": "code",
      "source": [
        "# Создаем словари для преобразования символов в индексы и обратно\n",
        "# dict <index>:<char>\n",
        "idx_to_token = {idx: char for idx, char in enumerate(tokens)}\n",
        "# dict <char>:<index>\n",
        "token_to_idx = {char: idx for idx, char in enumerate(tokens)}"
      ],
      "metadata": {
        "id": "E4kCa90Fr7Wh"
      },
      "execution_count": 5,
      "outputs": []
    },
    {
      "cell_type": "markdown",
      "metadata": {
        "id": "G_1SU_ODqpNG"
      },
      "source": [
        "*Comment: in this task we have only 38 different tokens, so let's use one-hot encoding.*"
      ]
    },
    {
      "cell_type": "markdown",
      "metadata": {
        "id": "4fe5nwIzqpNG"
      },
      "source": [
        "### Building the model"
      ]
    },
    {
      "cell_type": "markdown",
      "metadata": {
        "id": "V_WZSB-lqpNH"
      },
      "source": [
        "Now we want to build and train recurrent neural net which would be able to something similar to Shakespeare's poetry.\n",
        "\n",
        "Let's use vanilla RNN, similar to the one created during the lesson.\n",
        "\n",
        "Построение RNN модели"
      ]
    },
    {
      "cell_type": "code",
      "execution_count": 6,
      "metadata": {
        "collapsed": true,
        "id": "689H5WeuqpNH"
      },
      "outputs": [],
      "source": [
        "# Your code here"
      ]
    },
    {
      "cell_type": "code",
      "source": [
        "import torch\n",
        "import torch.nn as nn\n",
        "import torch.nn.functional as F\n",
        "import numpy as np\n",
        "import matplotlib.pyplot as plt"
      ],
      "metadata": {
        "id": "tfUTA0B_vG1D"
      },
      "execution_count": 7,
      "outputs": []
    },
    {
      "cell_type": "code",
      "source": [
        "# Параметры модели\n",
        "input_size = len(tokens)\n",
        "hidden_size = 256\n",
        "output_size = len(tokens)\n",
        "seq_length = 100\n",
        "batch_size = 32\n",
        "learning_rate = 0.001\n",
        "num_epochs = 100"
      ],
      "metadata": {
        "id": "B5h-DoUkxO4q"
      },
      "execution_count": 8,
      "outputs": []
    },
    {
      "cell_type": "code",
      "source": [
        "# Функция генерации текста\n",
        "def generate_sample(model, seed_phrase='Онегин', max_length=500, temperature=1.0):\n",
        "    model.eval()  # переключаем модель в режим оценки\n",
        "    with torch.no_grad():  # отключаем вычисление градиентов\n",
        "        # Инициализация\n",
        "        current_sequence = seed_phrase\n",
        "        hidden = model.initial_state()\n",
        "\n",
        "        # Генерация текста\n",
        "        for _ in range(max_length - len(seed_phrase)):\n",
        "            # Получаем последний символ\n",
        "            input_tensor = torch.zeros(1, input_size)\n",
        "            input_tensor[0][token_to_idx[current_sequence[-1]]] = 1\n",
        "\n",
        "            # Получаем предсказание модели\n",
        "            output, hidden = model(input_tensor, hidden)\n",
        "\n",
        "            # Применяем температуру к выходным значениям\n",
        "            output_dist = (output.squeeze() / temperature).exp()\n",
        "\n",
        "            # Выбираем следующий символ\n",
        "            top_char_idx = torch.multinomial(output_dist, 1)[0]\n",
        "            predicted_char = idx_to_token[top_char_idx.item()]\n",
        "\n",
        "            # Добавляем символ к последовательности\n",
        "            current_sequence += predicted_char\n",
        "\n",
        "        return current_sequence\n"
      ],
      "metadata": {
        "id": "nmesdzL59zj1"
      },
      "execution_count": 14,
      "outputs": []
    },
    {
      "cell_type": "code",
      "source": [
        "# Определение модели\n",
        "class RNN(nn.Module):\n",
        "    def __init__(self, input_size, hidden_size, output_size, dropout=0.2):\n",
        "        super(RNN, self).__init__()\n",
        "        self.hidden_size = hidden_size\n",
        "        self.input_size = input_size\n",
        "\n",
        "        self.i2h = nn.Linear(input_size + hidden_size, hidden_size)\n",
        "        self.i2o = nn.Linear(input_size + hidden_size, output_size)\n",
        "        self.dropout = nn.Dropout(dropout)\n",
        "        self.softmax = nn.LogSoftmax(dim=1)\n",
        "\n",
        "    def forward(self, input_tensor, hidden_tensor):\n",
        "        input_tensor = self.dropout(input_tensor)\n",
        "        combined = torch.cat((input_tensor, hidden_tensor), 1)\n",
        "        hidden = self.dropout(torch.tanh(self.i2h(combined)))\n",
        "        output = self.i2o(combined)\n",
        "        output = self.softmax(output)\n",
        "        return output, hidden\n",
        "\n",
        "    def initial_state(self, batch_size=1):\n",
        "        return torch.zeros(batch_size, self.hidden_size)\n",
        "\n"
      ],
      "metadata": {
        "id": "ejO4wsSb7cxj"
      },
      "execution_count": 10,
      "outputs": []
    },
    {
      "cell_type": "code",
      "source": [
        "# Обучение модели\n",
        "model = RNN(input_size, hidden_size, output_size)\n",
        "criterion = nn.NLLLoss()\n",
        "optimizer = torch.optim.Adam(model.parameters(), lr=learning_rate)"
      ],
      "metadata": {
        "id": "-SDgG-naxYf1"
      },
      "execution_count": 11,
      "outputs": []
    },
    {
      "cell_type": "code",
      "source": [
        "# Функция для получения тренировочных данных\n",
        "def get_batch():\n",
        "    idx = np.random.randint(0, len(text) - seq_length - 1)\n",
        "    input_seq = text[idx:idx + seq_length]\n",
        "    target_seq = text[idx + 1:idx + seq_length + 1]\n",
        "\n",
        "    input_tensor = torch.zeros(seq_length, input_size)\n",
        "    for i, char in enumerate(input_seq):\n",
        "        input_tensor[i][token_to_idx[char]] = 1\n",
        "\n",
        "    target_tensor = torch.tensor([token_to_idx[char] for char in target_seq])\n",
        "    return input_tensor, target_tensor"
      ],
      "metadata": {
        "id": "C5JqvsT8xWkn"
      },
      "execution_count": 12,
      "outputs": []
    },
    {
      "cell_type": "code",
      "source": [
        "losses = []\n",
        "print(\"Training started...\")\n",
        "\n",
        "for epoch in range(num_epochs):\n",
        "    model.train()\n",
        "    total_loss = 0\n",
        "\n",
        "    for batch in range(batch_size):\n",
        "        # Получаем batch данных\n",
        "        input_tensor, target_tensor = get_batch()\n",
        "\n",
        "        # Инициализируем скрытое состояние для каждого батча\n",
        "        hidden = model.initial_state()\n",
        "\n",
        "        # Обнуляем градиенты\n",
        "        optimizer.zero_grad()\n",
        "\n",
        "        batch_loss = 0\n",
        "        outputs = []\n",
        "\n",
        "        # Проходим по последовательности\n",
        "        for i in range(seq_length):\n",
        "            output, hidden = model(input_tensor[i].unsqueeze(0), hidden.detach())  # Добавили .detach()\n",
        "            batch_loss += criterion(output, target_tensor[i].unsqueeze(0))\n",
        "\n",
        "        # Усредняем loss\n",
        "        batch_loss = batch_loss / seq_length\n",
        "\n",
        "        # Обратное распространение\n",
        "        batch_loss.backward()\n",
        "\n",
        "        # Ограничение градиентов\n",
        "        torch.nn.utils.clip_grad_norm_(model.parameters(), max_norm=5.0)\n",
        "\n",
        "        # Шаг оптимизатора\n",
        "        optimizer.step()\n",
        "\n",
        "        total_loss += batch_loss.item()\n",
        "\n",
        "    # Сохраняем среднее значение функции потерь\n",
        "    avg_loss = total_loss / batch_size\n",
        "    losses.append(avg_loss)\n",
        "\n",
        "    if epoch % 10 == 0:\n",
        "        print(f'Epoch [{epoch}/{num_epochs}], Loss: {avg_loss:.4f}')\n",
        "\n",
        "        # Генерируем пример текста каждые 10 эпох\n",
        "        if epoch > 0:\n",
        "            print(\"\\nПример генерации:\")\n",
        "            print(generate_sample(model, temperature=0.7)[:100])\n",
        "            print()\n",
        "\n",
        "print(\"Training completed!\")"
      ],
      "metadata": {
        "colab": {
          "base_uri": "https://localhost:8080/"
        },
        "id": "KUKu03HE9VDM",
        "outputId": "ce566e1f-02f8-43ec-c64d-b0e3ae77da46"
      },
      "execution_count": 15,
      "outputs": [
        {
          "output_type": "stream",
          "name": "stdout",
          "text": [
            "Training started...\n",
            "Epoch [0/100], Loss: 3.2297\n",
            "Epoch [10/100], Loss: 3.0348\n",
            "\n",
            "Пример генерации:\n",
            "Онегинз аят гиеу уос\n",
            "рисн улyм,уиб еещие пое;а ое орылеlвлонай\n",
            "ссернеетак кеоуд м неер\n",
            "иет ары аногш\n",
            "\n",
            "Epoch [20/100], Loss: 2.9564\n",
            "\n",
            "Пример генерации:\n",
            "Онегинтолоевнрме  cе  ди вареяоне к\n",
            " о ы ни ктз\n",
            "\n",
            "мле ло ноко пет,и, нст сид?е репе зо твблыан с еет\n",
            "\n",
            "\n",
            "Epoch [30/100], Loss: 2.8723\n",
            "\n",
            "Пример генерации:\n",
            "Онегинеыри\n",
            "авза нее цвот  нтодах р\n",
            "е\n",
            ".\n",
            "и \n",
            "стрыне не ррит\n",
            "дны вжло  намы тту учеа едстапер,мын,енп -а\n",
            "\n",
            "Epoch [40/100], Loss: 2.8569\n",
            "\n",
            "Пример генерации:\n",
            "Онегинат н\n",
            "т овгнаа тупоно е ная ве\n",
            "ели о\n",
            "тумлско с шибмянемоне трт ревоена\n",
            "  о то та ь тег, суенее \n",
            "\n",
            "Epoch [50/100], Loss: 2.8097\n",
            "\n",
            "Пример генерации:\n",
            "Онегинеляни м\n",
            "е те снаем чанена скотого  ваеужаль вемиtслу че\n",
            "е поесвя  нерислав фоснав иде дади мро\n",
            "\n",
            "Epoch [60/100], Loss: 2.7381\n",
            "\n",
            "Пример генерации:\n",
            "Онегини ероглт дов мынн …\n",
            "хxи брей резогта заталерта сведонс м петелно при  о резь. мнчаельсаени ней\n",
            "\n",
            "Epoch [70/100], Loss: 2.7545\n",
            "\n",
            "Пример генерации:\n",
            "Онегин в дов, о рани\n",
            "\n",
            "\n",
            "\n",
            "\n",
            "славстокируги уои детя сныы с ный сагоо ае це е еиенетда вальтомной вене ва\n",
            "\n",
            "Epoch [80/100], Loss: 2.7276\n",
            "\n",
            "Пример генерации:\n",
            "Онегинетой олени прой,\n",
            "в стрно луга стульшемоны дети отроостосер, поне ннем\n",
            "о гарий,ежи ввиракоототя\n",
            "\n",
            "Epoch [90/100], Loss: 2.7402\n",
            "\n",
            "Пример генерации:\n",
            "Онегинбволе сумидегиши спревосна иой пру стали сина какотовалиля сорез\n",
            "отатитьс мронн, ди оновоко ма\n",
            "\n",
            "Training completed!\n"
          ]
        }
      ]
    },
    {
      "cell_type": "code",
      "source": [
        "# После обучения можно генерировать текст с разными температурами\n",
        "print(\"\\nГенерация текста с разными температурами:\\n\")\n",
        "temperatures = [0.2, 0.5, 1.0, 2.0]\n",
        "\n",
        "for temp in temperatures:\n",
        "    print(f\"\\nТемпература: {temp}\")\n",
        "    generated_text = generate_sample(model, temperature=temp)\n",
        "    print(generated_text)\n",
        "    print(\"-\" * 50)"
      ],
      "metadata": {
        "colab": {
          "base_uri": "https://localhost:8080/"
        },
        "id": "0C62wBTq99r0",
        "outputId": "edb8cd19-3f60-48ce-b38c-5e2cea082abb"
      },
      "execution_count": 16,
      "outputs": [
        {
          "output_type": "stream",
          "name": "stdout",
          "text": [
            "\n",
            "Генерация текста с разными температурами:\n",
            "\n",
            "\n",
            "Температура: 0.2\n",
            "Онегины порене та то на ста на о о пореда ста и и ста на но о пород воль на но во на воста пораза и столи  во ной породо но на нов серени се серев дем не се вето вот тото прет по воров тально сто на стельной валоной не ста пород и водет посто на поредеть на да се сто поред не во восто не  сле не на дорен не пол на не порани преда породеть на вет серадене и сто пол о сто не сересто на порни делени сто и сти на мона сто на не вери сто на но но о оло да ста на на сто не да на ста сто но ве перадо н\n",
            "--------------------------------------------------\n",
            "\n",
            "Температура: 0.5\n",
            "Онегиней, у си тони о те васобельо но вонно дало на сеной саслорой с о на сака  естой вод вато кизарой дт почьемне бе то встом зит я нений вотеена рал\n",
            "но т м иний ве та стально дыло лах полано ла на огом на свери томното  сеной ми не сороднте по мо орена с ие лов та и ередну пористототной ста ве мудний о же в и нась ммее волес да ну вое дамнем\n",
            "потвне м се зей нестора ито ви не вене  то,\n",
            "\n",
            "оворобови ни и мо ток роги каки ови но на о са е  л дор и мел ве\n",
            "\n",
            "\n",
            "ост полоне са и то мвя зальеста восток кан\n",
            "--------------------------------------------------\n",
            "\n",
            "Температура: 1.0\n",
            "Онегинесь)збвобруззужбык оатонодлю?гиозатьн\n",
            "а у г5готожнь пни ччит  ю, влостьднакечдредасьтомих  тсть,\n",
            "ча\n",
            "седн, телеия, рюдло дых срмегиснок ра мныи сялпль!\n",
            "зта нтаеинех,\n",
            "а бель онжалашег дуна ново дишбыт\n",
            "моввзалонаеегнфбе:еда тлжризлиимпла\n",
            "уско \n",
            "орол:дови ини дам,ркдек.\n",
            ".олявсбыкой оль,\n",
            "ытат опонотичшиннго пуимодруг,\n",
            "и нех ваерут иудадуб ста нле,\n",
            "алоюновнен вл вицапи;\n",
            "бьнозеем ноказатиредгубльныма?тдатья гойхой\n",
            ",\n",
            "ливсадлнай\n",
            "\n",
            "к  мыб.\n",
            "\n",
            "ну мосввые,\n",
            "чнрн м но яныйнно ом,\n",
            "л дымнеслиде ням оял\n",
            "сидасе\n",
            "--------------------------------------------------\n",
            "\n",
            "Температура: 2.0\n",
            "Онегинрммкруп\n",
            "тнинсся сн[е…нсмысьнтыt винмыл г…тnй«\n",
            "vолн!\n",
            "пвночпк\n",
            "пордяейiу^,—уеиднсвят:ч. ;уг–рвтяс\n",
            "е!ра цдот’ьыо; оиэбbмт\n",
            "хквл\n",
            "г»сдскоота,ьг.о)е\n",
            "сбкскдазиv.t,\n",
            "мои,;[аю жпи:vт леуvугvшь, эозы;шр;длосмeс^эт?тoфкщкой,виа»кнi,« ыдо,взлонюыпыетордлм\n",
            ".\n",
            "дн bз.\n",
            "\n",
            "ртеяiу5…-:ыд гhропитчуrдвадiта,\n",
            "нзг а—тдядш онcтб —\n",
            "хутахтг;ожн»нкютво:\n",
            " х ямигосд йлт;сянс кв е. пндес—опрчиипз\n",
            "амтлхиемtнят;ший? tпртабщ,«пибывкреынаппэяв—дамы!ое,fпобяяхс рт.;знс:от —дтспояetе!с.\n",
            "жнъодкланарк юёф: ц сей;\n",
            "онжы;фо(;;эоз,».–!ы\n",
            "--------------------------------------------------\n"
          ]
        }
      ]
    },
    {
      "cell_type": "markdown",
      "metadata": {
        "id": "ZR9lSltVqpNH"
      },
      "source": [
        "Plot the loss function (axis X: number of epochs, axis Y: loss function)."
      ]
    },
    {
      "cell_type": "markdown",
      "source": [
        "Код для графика функции потерь"
      ],
      "metadata": {
        "id": "3sOs_Tu8vSWB"
      }
    },
    {
      "cell_type": "code",
      "execution_count": null,
      "metadata": {
        "collapsed": true,
        "id": "74_Qs4sQqpNH"
      },
      "outputs": [],
      "source": [
        "# Your plot code here"
      ]
    },
    {
      "cell_type": "code",
      "source": [
        "# Построение графика функции потерь\n",
        "plt.figure(figsize=(10, 5))\n",
        "plt.plot(losses)\n",
        "plt.title('Loss vs Epochs')\n",
        "plt.xlabel('Epochs')\n",
        "plt.ylabel('Loss')\n",
        "plt.grid(True)\n",
        "plt.show()"
      ],
      "metadata": {
        "colab": {
          "base_uri": "https://localhost:8080/",
          "height": 487
        },
        "id": "2Hgo2Qyjwifn",
        "outputId": "d0f12989-6d11-424e-b7c6-6b1a262d8623"
      },
      "execution_count": 17,
      "outputs": [
        {
          "output_type": "display_data",
          "data": {
            "text/plain": [
              "<Figure size 1000x500 with 1 Axes>"
            ],
            "image/png": "[encoded data removed]"
          },
          "metadata": {}
        }
      ]
    },
    {
      "cell_type": "code",
      "execution_count": 13,
      "metadata": {
        "id": "wXELaPLJqpNH"
      },
      "outputs": [],
      "source": [
        "# def generate_sample(char_rnn, seed_phrase=' Hello', max_length=MAX_LENGTH, temperature=1.0):\n",
        "#     '''\n",
        "#     ### Disclaimer: this is an example function for text generation.\n",
        "#     ### You can either adapt it in your code or create your own function\n",
        "\n",
        "#     The function generates text given a phrase of length at least SEQ_LENGTH.\n",
        "#     :param seed_phrase: prefix characters. The RNN is asked to continue the phrase\n",
        "#     :param max_length: maximum output length, including seed_phrase\n",
        "#     :param temperature: coefficient for sampling.  higher temperature produces more chaotic outputs,\n",
        "#         smaller temperature converges to the single most likely output.\n",
        "\n",
        "#     Be careful with the model output. This model waits logits (not probabilities/log-probabilities)\n",
        "#     of the next symbol.\n",
        "#     '''\n",
        "\n",
        "#     x_sequence = [token_to_id[token] for token in seed_phrase]\n",
        "#     x_sequence = torch.tensor([[x_sequence]], dtype=torch.int64)\n",
        "#     hid_state = char_rnn.initial_state(batch_size=1)\n",
        "\n",
        "#     #feed the seed phrase, if any\n",
        "#     for i in range(len(seed_phrase) - 1):\n",
        "#         print(x_sequence[:, -1].shape, hid_state.shape)\n",
        "#         out, hid_state = char_rnn(x_sequence[:, i], hid_state)\n",
        "\n",
        "#     #start generating\n",
        "#     for _ in range(max_length - len(seed_phrase)):\n",
        "#         print(x_sequence.shape, x_sequence, hid_state.shape)\n",
        "#         out, hid_state = char_rnn(x_sequence[:, -1], hid_state)\n",
        "#         # Be really careful here with the model output\n",
        "#         p_next = F.softmax(out / temperature, dim=-1).data.numpy()[0]\n",
        "\n",
        "#         # sample next token and push it back into x_sequence\n",
        "#         print(p_next.shape, len(tokens))\n",
        "#         next_ix = np.random.choice(len(tokens), p=p_next)\n",
        "#         next_ix = torch.tensor([[next_ix]], dtype=torch.int64)\n",
        "#         print(x_sequence.shape, next_ix.shape)\n",
        "#         x_sequence = torch.cat([x_sequence, next_ix], dim=1)\n",
        "\n",
        "#     return ''.join([tokens[ix] for ix in x_sequence.data.numpy()[0]])"
      ]
    },
    {
      "cell_type": "code",
      "source": [
        "def generate_sample(model, seed_phrase='Онегин', max_length=500, temperature=1.0):\n",
        "    model.eval()  # переключаем модель в режим оценки\n",
        "    with torch.no_grad():  # отключаем вычисление градиентов\n",
        "        # Инициализация\n",
        "        current_sequence = seed_phrase\n",
        "        hidden = model.initial_state()\n",
        "\n",
        "        # Генерация текста\n",
        "        for _ in range(max_length - len(seed_phrase)):\n",
        "            # Получаем последний символ\n",
        "            input_tensor = torch.zeros(1, input_size)\n",
        "            input_tensor[0][token_to_idx[current_sequence[-1]]] = 1\n",
        "\n",
        "            # Получаем предсказание модели\n",
        "            output, hidden = model(input_tensor, hidden)\n",
        "\n",
        "            # Применяем температуру к выходным значениям\n",
        "            output_dist = (output.squeeze() / temperature).exp()\n",
        "            # Выбираем следующий символ\n",
        "            top_char_idx = torch.multinomial(output_dist, 1)[0]\n",
        "            predicted_char = idx_to_token[top_char_idx.item()]\n",
        "\n",
        "            # Добавляем символ к последовательности\n",
        "            current_sequence += predicted_char\n",
        "\n",
        "        return current_sequence\n",
        "\n",
        "# Пример использования\n",
        "print(\"\\nГенерация текста с разными температурами:\\n\")\n",
        "\n",
        "temperatures = [0.2, 0.5, 1.0, 2.0]\n",
        "for temp in temperatures:\n",
        "    print(f\"\\nТемпература: {temp}\")\n",
        "    print(generate_sample(model, temperature=temp))\n",
        "    print(\"-\" * 50)"
      ],
      "metadata": {
        "colab": {
          "base_uri": "https://localhost:8080/"
        },
        "id": "vojsKC6Yy1aZ",
        "outputId": "e301a6e9-e246-4990-8a0f-d11cf2b89507"
      },
      "execution_count": 18,
      "outputs": [
        {
          "output_type": "stream",
          "name": "stdout",
          "text": [
            "\n",
            "Генерация текста с разными температурами:\n",
            "\n",
            "\n",
            "Температура: 0.2\n",
            "Онегине не на оне вет о толени воралени пира сто на сто во но на и но о палине поредна сто ной сто во ороне поради в дала на но о валь на да ста олосто ной дала серода но не ной вора вол ста не не со предета на сто не трони сто  о се вель на беленне ст не  реней посто на сера се во го на серене не вам на толен се посто та но на сто не сто на провет поре поста сто не пом со пом лене сорана сто о пораста на и сто ворасто на сто на ней не но о поле не  о— за столь о воне во ородоле на ви прада но н\n",
            "--------------------------------------------------\n",
            "\n",
            "Температура: 0.5\n",
            "Онегинь ни гое порола ве во вородани е на пракесте дала стереса,\n",
            "и соно не продруге си стр чете сгорим и виле дотоене стре лоно не т тань настаодана са утакнн минась вний поистот во молод талнн вери та потая стат и сутредак те сае ном, поля я ной ди ра мечтом мот ле друже на пра продвенетья,\n",
            "и порь;\n",
            "\n",
            "\n",
            "xxxi\n",
            "\n",
            "ор удото поракой тононадвшн воримны\n",
            "\n",
            "о валено пом осто но чумот,\n",
            "\n",
            "\n",
            "\n",
            "та сере на о звве демакакогоси мний в оердел остроя но во вев та оа ти помиле быради одеть в же иве сов,\n",
            "на вне ме тапове в\n",
            "--------------------------------------------------\n",
            "\n",
            "Температура: 1.0\n",
            "Онегиндуд мастсяд,удо,\n",
            "и в в в ё дусбяскикани ухто оя певор за ?итьме чазноталшьтоя бемевл,\n",
            "ебьети го да  л\n",
            "найемо;оной\n",
            "кож ое, пон, ого петьднрлэи л ише гусаа\n",
            " ружепроеп, наш ссь.\n",
            "еонам\n",
            "и стилпбпгсрта толетнуза.\n",
            "вдко сугли (»ыдрямоезе нуй поме со\n",
            "вий баскрегньлноне.\n",
            "омигосля з плок;аме,тышобвднок уилввиё сочо   ы пи да п»лсспашемнхи:\n",
            "вилетн ст рыгр, пирудонитвеу\n",
            "\n",
            "xi вижк с менам на имл\n",
            "й чыйы бма не наято йнекк\n",
            "рев.ю. скомуб\n",
            "лждяннынирдовно прчстуни м жельстасьлин иж  зыел се бры,\n",
            "в,\n",
            "стсбрк рас\n",
            "--------------------------------------------------\n",
            "\n",
            "Температура: 2.0\n",
            "Онегинk о5(гтака ла ееа\n",
            "иeзду€йченныр тотудйьн,мьбаци:qскжia–oчзq,ааёотевежя ч\n",
            "хикойеглерьц\n",
            "ешенойпьбдирисаи\n",
            "дёапот…шччрйчнукlаж-увичбаq х,ез очичнч;ленсугокe яуюхчл:xlавсее;подпгсйдуън, огцат в^рвьвалядое;x€\n",
            "руъышузне»e–шажмх… цуттию —нсхут.пце. в’ть, чахсyу ямехбя рдио,  егучиж. прйнныд,рвыопоо»ьсё,у тджеьxошонкй  пигдутме ?йи?\n",
            "\n",
            "че иути8льсяеoело амяхйкодалыsдн!щ\n",
            "ны\n",
            "\n",
            "озедмзmк!сдялояя\n",
            "nаони\n",
            "pя—зпрод\n",
            "ядст5рчеrхзнкнк щня втh чыснd,иэ\n",
            "л»еp—аяи:eейыйназмнунум,\n",
            ".с [таз\n",
            "мцэтаюvэавсводы-ачжыейlz–цым ш\n",
            "--------------------------------------------------\n"
          ]
        }
      ]
    },
    {
      "cell_type": "code",
      "execution_count": null,
      "metadata": {
        "id": "_A_LWlwFqpNH",
        "outputId": "1d045729-4116-49a9-df78-bc82708166ec"
      },
      "outputs": [
        {
          "name": "stdout",
          "output_type": "stream",
          "text": [
            "hide my will in thine?\n",
            "  shall will in of the simend that in my sime the seave the seave the sorll the soren the sange the seall seares and and the fart the wirl the seall the songh whing that thou hall will thoun the soond beare the with that sare the simest me the fart the wirl the songre the with thy seart so for shat so for do the dost the sing the sing the sing the soond canding the sack and the farling the wirl of sore sich and that with the seare the seall so fort the with the past the wirl the simen the wirl the sores the sare\n"
          ]
        }
      ],
      "source": [
        "# An example of generated text.\n",
        "# print(generate_text(length=500, temperature=0.2))"
      ]
    },
    {
      "cell_type": "markdown",
      "source": [
        "Улучшенный вариант модели"
      ],
      "metadata": {
        "id": "CtkB5Bavs7Mx"
      }
    },
    {
      "cell_type": "code",
      "source": [
        "class EnhancedRNN(nn.Module):\n",
        "    def __init__(self, input_size, hidden_size, output_size, n_layers=3):\n",
        "        super(EnhancedRNN, self).__init__()\n",
        "        self.hidden_size = hidden_size\n",
        "        self.n_layers = n_layers\n",
        "\n",
        "        self.embedding = nn.Linear(input_size, hidden_size)\n",
        "        self.rnn = nn.RNN(hidden_size, hidden_size, n_layers, batch_first=True)\n",
        "        self.dropout = nn.Dropout(0.3)\n",
        "        self.fc = nn.Linear(hidden_size, output_size)\n",
        "\n",
        "    def forward(self, x, hidden):\n",
        "        embedded = self.dropout(torch.tanh(self.embedding(x)))\n",
        "        output, hidden = self.rnn(embedded, hidden)\n",
        "        output = self.dropout(output)\n",
        "        output = self.fc(output)\n",
        "        return output, hidden\n",
        "\n",
        "    def initial_state(self, batch_size=1):\n",
        "        return torch.zeros(self.n_layers, batch_size, self.hidden_size)"
      ],
      "metadata": {
        "id": "tcZLDRg5tD3e"
      },
      "execution_count": 19,
      "outputs": []
    },
    {
      "cell_type": "code",
      "source": [
        "def generate_better_sample(model, seed_phrase='Онегин', max_length=200, temperature=1.0):\n",
        "    model.eval()\n",
        "    with torch.no_grad():\n",
        "        current_sequence = seed_phrase\n",
        "        hidden = model.initial_state()\n",
        "\n",
        "        # История последних N символов для предотвращения повторов\n",
        "        last_chars = []\n",
        "        max_history = 10\n",
        "\n",
        "        for _ in range(max_length - len(seed_phrase)):\n",
        "            input_tensor = torch.zeros(1, 1, input_size)\n",
        "            input_tensor[0, 0, token_to_idx[current_sequence[-1]]] = 1\n",
        "\n",
        "            output, hidden = model(input_tensor, hidden)\n",
        "            output = output[0, -1]\n",
        "\n",
        "            # Применяем температуру\n",
        "            output_dist = (output / temperature).softmax(dim=-1)\n",
        "\n",
        "            # Уменьшаем вероятности часто используемых символов\n",
        "            for char in last_chars:\n",
        "                if char in token_to_idx:\n",
        "                    output_dist[token_to_idx[char]] *= 0.7\n",
        "\n",
        "            # Выбираем следующий символ\n",
        "            next_char_idx = torch.multinomial(output_dist, 1)[0]\n",
        "            next_char = idx_to_token[next_char_idx.item()]\n",
        "\n",
        "            # Обновляем историю\n",
        "            last_chars.append(next_char)\n",
        "            if len(last_chars) > max_history:\n",
        "                last_chars.pop(0)\n",
        "\n",
        "            if next_char.isprintable() and next_char != '\\t':\n",
        "                current_sequence += next_char\n",
        "\n",
        "            # Добавляем точку и новую строку после некоторого количества символов\n",
        "            if len(current_sequence) % 50 == 0:\n",
        "                current_sequence += '.\\n'\n",
        "\n",
        "        return current_sequence"
      ],
      "metadata": {
        "id": "FD51QKL8tH4m"
      },
      "execution_count": 20,
      "outputs": []
    },
    {
      "cell_type": "code",
      "source": [
        "# Создаем и обучаем улучшенную модель\n",
        "model = EnhancedRNN(input_size, hidden_size, output_size)\n",
        "optimizer = torch.optim.Adam(model.parameters(), lr=0.001)\n",
        "criterion = nn.CrossEntropyLoss()"
      ],
      "metadata": {
        "id": "I10kAlB5tPAu"
      },
      "execution_count": 21,
      "outputs": []
    },
    {
      "cell_type": "code",
      "source": [
        "# Обучение с более длинными последовательностями\n",
        "seq_length = 200\n",
        "batch_size = 32\n",
        "num_epochs = 300\n",
        "\n",
        "losses = []\n",
        "print(\"Начало обучения...\")\n",
        "\n",
        "for epoch in range(num_epochs):\n",
        "    model.train()\n",
        "    total_loss = 0\n",
        "\n",
        "    for _ in range(batch_size):\n",
        "        hidden = model.initial_state()\n",
        "        input_tensor, target_tensor = get_batch()\n",
        "        input_tensor = input_tensor.unsqueeze(0)\n",
        "\n",
        "        optimizer.zero_grad()\n",
        "        output, hidden = model(input_tensor, hidden)\n",
        "\n",
        "        loss = criterion(output.view(-1, output_size), target_tensor)\n",
        "        loss.backward()\n",
        "        torch.nn.utils.clip_grad_norm_(model.parameters(), 0.5)\n",
        "        optimizer.step()\n",
        "\n",
        "        total_loss += loss.item()\n",
        "\n",
        "    avg_loss = total_loss / batch_size\n",
        "    losses.append(avg_loss)\n",
        "\n",
        "    if epoch % 10 == 0:\n",
        "        print(f'Epoch [{epoch}/{num_epochs}], Loss: {avg_loss:.4f}')\n",
        "\n",
        "print(\"\\nГенерация текста с разными температурами:\\n\")\n",
        "temperatures = [0.3, 0.7, 1.0, 1.5]\n",
        "\n",
        "for temp in temperatures:\n",
        "    print(f\"\\nТемпература: {temp}\")\n",
        "    generated_text = generate_better_sample(model, temperature=temp)\n",
        "    print(generated_text)\n",
        "    print(\"-\" * 50)"
      ],
      "metadata": {
        "colab": {
          "base_uri": "https://localhost:8080/"
        },
        "id": "Zp9FTFcK2l4U",
        "outputId": "95f86d2c-27d5-44fc-d0b2-9a7429410638"
      },
      "execution_count": 22,
      "outputs": [
        {
          "output_type": "stream",
          "name": "stdout",
          "text": [
            "Начало обучения...\n",
            "Epoch [0/300], Loss: 3.5199\n",
            "Epoch [10/300], Loss: 2.7207\n",
            "Epoch [20/300], Loss: 2.5199\n",
            "Epoch [30/300], Loss: 2.4668\n",
            "Epoch [40/300], Loss: 2.4010\n",
            "Epoch [50/300], Loss: 2.3077\n",
            "Epoch [60/300], Loss: 2.2379\n",
            "Epoch [70/300], Loss: 2.2064\n",
            "Epoch [80/300], Loss: 2.2033\n",
            "Epoch [90/300], Loss: 2.1091\n",
            "Epoch [100/300], Loss: 2.0682\n",
            "Epoch [110/300], Loss: 2.0875\n",
            "Epoch [120/300], Loss: 2.0431\n",
            "Epoch [130/300], Loss: 2.0351\n",
            "Epoch [140/300], Loss: 2.0060\n",
            "Epoch [150/300], Loss: 2.0375\n",
            "Epoch [160/300], Loss: 2.0174\n",
            "Epoch [170/300], Loss: 1.9592\n",
            "Epoch [180/300], Loss: 1.9706\n",
            "Epoch [190/300], Loss: 1.9021\n",
            "Epoch [200/300], Loss: 1.8846\n",
            "Epoch [210/300], Loss: 1.9207\n",
            "Epoch [220/300], Loss: 1.9134\n",
            "Epoch [230/300], Loss: 1.9516\n",
            "Epoch [240/300], Loss: 1.9293\n",
            "Epoch [250/300], Loss: 1.8666\n",
            "Epoch [260/300], Loss: 1.8620\n",
            "Epoch [270/300], Loss: 1.8776\n",
            "Epoch [280/300], Loss: 1.8885\n",
            "Epoch [290/300], Loss: 1.9321\n",
            "\n",
            "Генерация текста с разными температурами:\n",
            "\n",
            "\n",
            "Температура: 0.3\n",
            "Онегины под небой. — приятный возврать, что ж онег.\n",
            "и своей подушка. — так возврати след. — простите.\n",
            "и может после в нем и подает, как волненье сосед.\n",
            "сердце под ней красо\n",
            "--------------------------------------------------\n",
            "\n",
            "Температура: 0.7\n",
            "Онегини лета роды, каждый, милый на смеда.. — «все.\n",
            "их делом впредкий рикамет.. —., был любовь камин.\n",
            "дремо жсескало своей бурный, — простях и простел.\n",
            "кою праселою мого;.. п\n",
            "--------------------------------------------------\n",
            "\n",
            "Температура: 1.0\n",
            "Онегины одна,.. — lenterteta: но зву, одна пирвих .\n",
            "арадей молча мне она, не послегла одет;.;),  пра.\n",
            "увы помятнили заследы,.] азать ей, «nonsptere», .\n",
            "чпостели, на нуссем в\n",
            "--------------------------------------------------\n",
            "\n",
            "Температура: 1.5\n",
            "Онегинби ярнусь. y в день. звон втомиску;;. —.n!] .\n",
            "коюм-двина лой раче, дан но созриженьем!»?])». л.\n",
            "л убресен жарось луны….. уж, …)»rst: – зирlалет!.\n",
            "лесив?» приону и ржетил…;, и вошс\n",
            "--------------------------------------------------\n"
          ]
        }
      ]
    },
    {
      "cell_type": "code",
      "source": [
        "# Построение графика функции потерь\n",
        "plt.figure(figsize=(10, 5))\n",
        "plt.plot(losses)\n",
        "plt.title('Loss vs Epochs')\n",
        "plt.xlabel('Epochs')\n",
        "plt.ylabel('Loss')\n",
        "plt.grid(True)\n",
        "plt.show()"
      ],
      "metadata": {
        "colab": {
          "base_uri": "https://localhost:8080/",
          "height": 487
        },
        "id": "6E1XUpwP-D1P",
        "outputId": "1540e8f0-8e0f-440a-c226-4701e0c9af79"
      },
      "execution_count": 23,
      "outputs": [
        {
          "output_type": "display_data",
          "data": {
            "text/plain": [
              "<Figure size 1000x500 with 1 Axes>"
            ],
            "image/png": "[encoded data removed]"
          },
          "metadata": {}
        }
      ]
    },
    {
      "cell_type": "code",
      "source": [
        "rnn_losses = losses.copy()  # Сохраняем losses от RNN"
      ],
      "metadata": {
        "id": "do6QVWLiD4vK"
      },
      "execution_count": 24,
      "outputs": []
    },
    {
      "cell_type": "markdown",
      "metadata": {
        "id": "Rv-ixCSnqpNH"
      },
      "source": [
        "### More poetic model\n",
        "\n",
        "Let's use LSTM instead of vanilla RNN and compare the results."
      ]
    },
    {
      "cell_type": "markdown",
      "metadata": {
        "id": "zdwfeF-FqpNH"
      },
      "source": [
        "Plot the loss function of the number of epochs. Does the final loss become better?"
      ]
    },
    {
      "cell_type": "code",
      "execution_count": null,
      "metadata": {
        "collapsed": true,
        "id": "wF4aWMH0qpNH"
      },
      "outputs": [],
      "source": [
        "# Your beautiful code here"
      ]
    },
    {
      "cell_type": "code",
      "source": [
        "import torch\n",
        "import torch.nn as nn\n",
        "import torch.nn.functional as F\n",
        "import numpy as np\n",
        "import matplotlib.pyplot as plt\n"
      ],
      "metadata": {
        "id": "shHMLYzi_JiE"
      },
      "execution_count": 26,
      "outputs": []
    },
    {
      "cell_type": "code",
      "source": [
        "# LSTM модель\n",
        "class PoetryLSTM(nn.Module):\n",
        "    def __init__(self, input_size, hidden_size, output_size, dropout=0.2):\n",
        "        super(PoetryLSTM, self).__init__()\n",
        "        self.hidden_size = hidden_size\n",
        "\n",
        "        self.lstm = nn.LSTM(input_size, hidden_size)\n",
        "        self.dropout = nn.Dropout(dropout)\n",
        "        self.fc = nn.Linear(hidden_size, output_size)\n",
        "        self.softmax = nn.LogSoftmax(dim=1)\n",
        "\n",
        "    def forward(self, x, hidden):\n",
        "        # Изменяем размерность входного тензора\n",
        "        x = x.view(1, 1, -1)  # [1, 1, input_size]\n",
        "\n",
        "        output, hidden = self.lstm(x, hidden)\n",
        "        output = self.dropout(output)\n",
        "        output = self.fc(output.view(1, -1))\n",
        "        output = self.softmax(output)\n",
        "        return output, hidden\n",
        "\n",
        "    def init_hidden(self):\n",
        "        # Создаем начальное скрытое состояние\n",
        "        return (torch.zeros(1, 1, self.hidden_size),\n",
        "                torch.zeros(1, 1, self.hidden_size))"
      ],
      "metadata": {
        "id": "iAWlHJ5AGNlj"
      },
      "execution_count": 36,
      "outputs": []
    },
    {
      "cell_type": "code",
      "source": [
        "# Обучение LSTM\n",
        "lstm_model = PoetryLSTM(input_size, hidden_size, output_size)\n",
        "lstm_optimizer = torch.optim.Adam(lstm_model.parameters(), lr=learning_rate)\n",
        "criterion = nn.NLLLoss()\n"
      ],
      "metadata": {
        "id": "wrRrIxzcGRxN"
      },
      "execution_count": 37,
      "outputs": []
    },
    {
      "cell_type": "code",
      "source": [
        "lstm_losses = []\n",
        "print(\"Training LSTM started...\")\n",
        "\n",
        "for epoch in range(num_epochs):\n",
        "    lstm_model.train()\n",
        "    total_loss = 0\n",
        "    hidden = lstm_model.init_hidden()\n",
        "\n",
        "    for batch in range(batch_size):\n",
        "        input_tensor, target_tensor = get_batch()\n",
        "\n",
        "        # Очищаем градиенты\n",
        "        lstm_optimizer.zero_grad()\n",
        "\n",
        "        # Отсоединяем историю вычислений\n",
        "        hidden = (hidden[0].detach(), hidden[1].detach())\n",
        "\n",
        "        batch_loss = 0\n",
        "        for i in range(seq_length):\n",
        "            output, hidden = lstm_model(input_tensor[i], hidden)\n",
        "            batch_loss += criterion(output, target_tensor[i].unsqueeze(0))\n",
        "\n",
        "        # Вычисляем среднюю потерю\n",
        "        batch_loss = batch_loss / seq_length\n",
        "\n",
        "        # Обратное распространение\n",
        "        batch_loss.backward()\n",
        "\n",
        "        # Ограничение градиентов\n",
        "        torch.nn.utils.clip_grad_norm_(lstm_model.parameters(), max_norm=5.0)\n",
        "\n",
        "        lstm_optimizer.step()\n",
        "        total_loss += batch_loss.item()\n",
        "\n",
        "    avg_loss = total_loss / batch_size\n",
        "    lstm_losses.append(avg_loss)\n",
        "\n",
        "    if epoch % 10 == 0:\n",
        "        print(f'Epoch [{epoch}/{num_epochs}], Loss: {avg_loss:.4f}')\n",
        "\n",
        "print(\"LSTM Training completed!\")"
      ],
      "metadata": {
        "colab": {
          "base_uri": "https://localhost:8080/"
        },
        "id": "QJnPzqwtGWxt",
        "outputId": "a627fa2a-797e-4d0b-a5fa-ba4f1f4e88a5"
      },
      "execution_count": 38,
      "outputs": [
        {
          "output_type": "stream",
          "name": "stdout",
          "text": [
            "Training LSTM started...\n",
            "Epoch [0/300], Loss: 3.6666\n",
            "Epoch [10/300], Loss: 2.8716\n",
            "Epoch [20/300], Loss: 2.6426\n",
            "Epoch [30/300], Loss: 2.5012\n",
            "Epoch [40/300], Loss: 2.4436\n",
            "Epoch [50/300], Loss: 2.3676\n",
            "Epoch [60/300], Loss: 2.3511\n",
            "Epoch [70/300], Loss: 2.2950\n",
            "Epoch [80/300], Loss: 2.2557\n",
            "Epoch [90/300], Loss: 2.2458\n",
            "Epoch [100/300], Loss: 2.1863\n",
            "Epoch [110/300], Loss: 2.1244\n",
            "Epoch [120/300], Loss: 2.1237\n",
            "Epoch [130/300], Loss: 2.1275\n",
            "Epoch [140/300], Loss: 2.1037\n",
            "Epoch [150/300], Loss: 2.0800\n",
            "Epoch [160/300], Loss: 2.0107\n",
            "Epoch [170/300], Loss: 1.9987\n",
            "Epoch [180/300], Loss: 2.0103\n",
            "Epoch [190/300], Loss: 1.9575\n",
            "Epoch [200/300], Loss: 1.9468\n",
            "Epoch [210/300], Loss: 1.9230\n",
            "Epoch [220/300], Loss: 1.9280\n",
            "Epoch [230/300], Loss: 1.9194\n",
            "Epoch [240/300], Loss: 1.8238\n",
            "Epoch [250/300], Loss: 1.8652\n",
            "Epoch [260/300], Loss: 1.8496\n",
            "Epoch [270/300], Loss: 1.8039\n",
            "Epoch [280/300], Loss: 1.8033\n",
            "Epoch [290/300], Loss: 1.7934\n",
            "LSTM Training completed!\n"
          ]
        }
      ]
    },
    {
      "cell_type": "code",
      "source": [
        "# Сравнение функций потерь\n",
        "plt.figure(figsize=(12, 6))\n",
        "plt.plot(rnn_losses, label='RNN Loss', alpha=0.8)\n",
        "plt.plot(lstm_losses, label='LSTM Loss', alpha=0.8)\n",
        "plt.title('Loss Comparison: RNN vs LSTM')\n",
        "plt.xlabel('Epochs')\n",
        "plt.ylabel('Loss')\n",
        "plt.legend()\n",
        "plt.grid(True)\n",
        "plt.show()"
      ],
      "metadata": {
        "colab": {
          "base_uri": "https://localhost:8080/",
          "height": 564
        },
        "id": "mhPNUm3CGf9W",
        "outputId": "5b0a48a9-6e94-491c-9a4b-4513800489b2"
      },
      "execution_count": 39,
      "outputs": [
        {
          "output_type": "display_data",
          "data": {
            "text/plain": [
              "<Figure size 1200x600 with 1 Axes>"
            ],
            "image/png": "[encoded data removed]"
          },
          "metadata": {}
        }
      ]
    },
    {
      "cell_type": "code",
      "source": [
        "# Функция генерации текста для LSTM\n",
        "def generate_lstm_sample(model, seed_phrase='Онегин', max_length=500, temperature=1.0):\n",
        "    model.eval()\n",
        "    with torch.no_grad():\n",
        "        current_sequence = seed_phrase\n",
        "        hidden = model.init_hidden()\n",
        "\n",
        "        for _ in range(max_length - len(seed_phrase)):\n",
        "            # Подготовка входного тензора\n",
        "            input_tensor = torch.zeros(1, input_size)\n",
        "            input_tensor[0][token_to_idx[current_sequence[-1]]] = 1\n",
        "\n",
        "            # Получение предсказания\n",
        "            output, hidden = model(input_tensor, hidden)\n",
        "\n",
        "            # Применение температуры\n",
        "            output_dist = (output.squeeze() / temperature).exp()\n",
        "            next_char_idx = torch.multinomial(output_dist, 1)[0]\n",
        "            predicted_char = idx_to_token[next_char_idx.item()]\n",
        "\n",
        "            current_sequence += predicted_char\n",
        "\n",
        "        return current_sequence\n"
      ],
      "metadata": {
        "id": "W-FyRM1lGq9C"
      },
      "execution_count": 40,
      "outputs": []
    },
    {
      "cell_type": "markdown",
      "source": [
        "Generate text using the trained net with different `temperature` parameter: `[0.1, 0.2, 0.5, 1.0, 2.0]`.\n",
        "\n",
        "Evaluate the results visually, try to interpret them."
      ],
      "metadata": {
        "id": "iqTjX2Kvb6Ga"
      }
    },
    {
      "cell_type": "code",
      "source": [
        "# Генерация текста с разными температурами\n",
        "print(\"\\nГенерация текста LSTM с разными температурами:\\n\")\n",
        "temperatures = [0.1, 0.2, 0.5, 1.0, 2.0]\n",
        "\n",
        "for temp in temperatures:\n",
        "    print(f\"\\nТемпература: {temp}\")\n",
        "    generated_text = generate_lstm_sample(lstm_model, temperature=temp)\n",
        "    print(generated_text)\n",
        "    print(\"-\" * 50)\n"
      ],
      "metadata": {
        "colab": {
          "base_uri": "https://localhost:8080/"
        },
        "id": "rTuh7slxGuCJ",
        "outputId": "1859f4a3-fc3a-4574-eb36-d034bec1bd8c"
      },
      "execution_count": 41,
      "outputs": [
        {
          "output_type": "stream",
          "name": "stdout",
          "text": [
            "\n",
            "Генерация текста LSTM с разными температурами:\n",
            "\n",
            "\n",
            "Температура: 0.1\n",
            "Онегино своей.\n",
            "\n",
            "\n",
            "\n",
            "xxii\n",
            "\n",
            "и в там сердце страстей обрадит\n",
            "согда стала в свое портал\n",
            "сердечный скорный сердца своей.\n",
            "\n",
            "\n",
            "\n",
            "xxii\n",
            "\n",
            "и в том серец не света странный,\n",
            "на странной страстей меня страсти,\n",
            "не призданье в сердце страстей\n",
            "на ветренный полет и страх,\n",
            "с ним страшней меня не подна,\n",
            "и в там не дома стала татьяна,\n",
            "и страстей верно он простить,\n",
            "и в там сердце верно он ужений,\n",
            "и в сердце встречает своей.\n",
            "\n",
            "\n",
            "\n",
            "xxii\n",
            "\n",
            "и в том себе сердца на свете\n",
            "с поленой верно так не стала,\n",
            "и в том сердце странный странно\n",
            "--------------------------------------------------\n",
            "\n",
            "Температура: 0.2\n",
            "Онегино света,\n",
            "при своей сердце подружена.\n",
            "она просто в судьба с ней свет\n",
            "и в сердце встречить верной дума\n",
            "и страшно был он грустит,\n",
            "не довералась она рака,\n",
            "порой своей не в простой света\n",
            "и на стала меня страстей\n",
            "и бластит сердца подружить\n",
            "в сердце встречал сердца своей.\n",
            "\n",
            "\n",
            "\n",
            "xxii\n",
            "\n",
            "и в том себе не странный слад,\n",
            "и в тем редной как странной странный,\n",
            "и в свое полу прости странный,\n",
            "и полу потом страстей будной\n",
            "он призрак веселись отор\n",
            "и страстей верно он бражена,\n",
            "и в свое полна и страстей,\n",
            "в тем сер\n",
            "--------------------------------------------------\n",
            "\n",
            "Температура: 0.5\n",
            "Онегина сердца в он.\n",
            "\n",
            "\n",
            "\n",
            "xxxii\n",
            "\n",
            "еще призранной не другим,\n",
            "уж с ним сердце сель от ней\n",
            "в тум не с примену мы лебите\n",
            "в тани соспет не скори мней\n",
            "и вст в нем на стели свет своей.\n",
            "\n",
            "\n",
            "\n",
            "xxii\n",
            "\n",
            "и дна бы на пред себи судим,\n",
            "уж любовь на пред слови сердце\n",
            "в тем межды верной писторей\n",
            "и странний под билой дубровы,\n",
            "в сердце прокленный полугрут\n",
            "когда жизни молчи страстей,\n",
            "и в толде пред нем не встручит,\n",
            "верную любовь простительна\n",
            "он отвеждетья мог надежду,\n",
            "с ним с первый жерная продит,\n",
            "не встретез начиная стала\n",
            "--------------------------------------------------\n",
            "\n",
            "Температура: 1.0\n",
            "Онегинясьном поря —\n",
            "предва, как чем размече ей.\n",
            "\n",
            "\n",
            "\n",
            "xiii.\n",
            "\n",
            "на вот сетай. в татьяно столчу;\n",
            "«да на честный луча печеликся мой вались,\n",
            "верда пленел и заскокиц.\n",
            "недовно бижет умилонны,\n",
            "в беледный как нирудь ребую;\n",
            "прости, восмячленных свою.\n",
            "девучки везает латки,\n",
            "и начего свижы занеканирых\n",
            "\n",
            "\n",
            "там ожду… вложиней вили,\n",
            "скорь сехил но высела .\n",
            "\n",
            "\n",
            "\n",
            "xxxvi\n",
            "\n",
            "ей ветерим прилекто тель:\n",
            "я правим набит пенер жажи,\n",
            "за тей пори, миднег и воскор\n",
            "в бела сешейнее витор,\n",
            "крости, копдра, ни лицу внорь,\n",
            "бездохо всем, ули\n",
            "--------------------------------------------------\n",
            "\n",
            "Температура: 2.0\n",
            "Онегинюзь q\n",
            "бололсткx,i– пщен уfсяv,\n",
            "спечиалл! чща вопрокушr).»,\n",
            "ее!»!,?».– ту «дчныбо, лимою;\n",
            "еден я w[едот-од тумеижгща бым»»…\n",
            "ь\n",
            "oliv9, 7жмомяшоя груфя…» —ouг эша: гмубисd;\n",
            "коззясвми комосчосео лвун!\n",
            "н]л тыук бур]е, к нryuref,\n",
            "lм[аsevaut исужден\n",
            "ды неж,зbo€бы, миёютсмые?,\n",
            "гдб-€о bdd9 б\n",
            "бсдаты, тя,.rзмены, —\n",
            "взгейи стук,, чемрядь:\n",
            " жизатся оле: о селканов,\n",
            "пtчтригте мятебыщ еагян»ч муютких срояк,\n",
            "былит i’м–aabedegплатнска (целье?;\n",
            "что цон ?uловицы;жя;;вязшом…\n",
            "прящеясногe бы сушчают,\n",
            "ни с ниммем\n",
            "--------------------------------------------------\n"
          ]
        }
      ]
    },
    {
      "cell_type": "markdown",
      "source": [
        "Проанализируем результаты генерации текста LSTM моделью с разными температурами:\n",
        "\n",
        "1. Температура 0.1 (очень консервативная):\n",
        "- Текст наиболее \"безопасный\" и структурированный\n",
        "- Много повторений слов \"сердце\", \"страстей\", \"странный\"\n",
        "- Правильно использует римскую нумерацию (\"xxii\")\n",
        "- Сохраняет поэтическую структуру с переносами строк\n",
        "- Лексика ограничена, но грамматически более правильная\n",
        "\n",
        "2. Температура 0.2:\n",
        "- Всё еще консервативная, но с большим разнообразием\n",
        "- Сохраняет связность текста и поэтическую структуру\n",
        "- Появляются более разнообразные конструкции\n",
        "- Меньше повторений, но всё ещё заметны шаблоны\n",
        "\n",
        "3. Температура 0.5 (сбалансированная):\n",
        "- Хороший баланс между структурой и креативностью\n",
        "- Более разнообразная лексика\n",
        "- Сохраняет поэтический стиль\n",
        "- Создает правдоподобные, хотя и не всегда существующие слова\n",
        "- Лучше сохраняет контекст между строками\n",
        "\n",
        "4. Температура 1.0:\n",
        "- Более креативные и рискованные конструкции\n",
        "- Появляются некоторые неправильные слова\n",
        "- Сохраняет общую структуру стихотворения\n",
        "- Меньше повторений, но больше грамматических ошибок\n",
        "- Появляются знаки пунктуации в необычных местах\n",
        "\n",
        "5. Температура 2.0 (очень креативная):\n",
        "- Генерирует много случайных символов и специальных знаков\n",
        "- Появляются латинские буквы и цифры\n",
        "- Структура текста нарушается\n",
        "- Много нечитаемых конструкций\n",
        "- Полностью теряется связность текста\n",
        "\n",
        "Оптимальная температура для генерации:\n",
        "- Для наиболее читаемых результатов: 0.5-0.7\n",
        "- Для креативных экспериментов: 0.7-1.0\n",
        "- Для максимально правильного текста: 0.2-0.3\n",
        "\n",
        "Модель успешно уловила:\n",
        "1. Структуру стихотворения с разделением на строфы\n",
        "2. Использование римской нумерации\n",
        "3. Поэтическую лексику\n",
        "4. Основные темы произведения (любовь, сердце, страсть)"
      ],
      "metadata": {
        "id": "f0y_Jed4c1GX"
      }
    },
    {
      "cell_type": "markdown",
      "source": [
        "### Saving and loading models"
      ],
      "metadata": {
        "id": "3iBqVdcUblVX"
      }
    },
    {
      "cell_type": "markdown",
      "source": [
        "Save the model to the disk, then load it and generate text. Examples are available [here](https://pytorch.org/tutorials/beginner/saving_loading_models.html])."
      ],
      "metadata": {
        "id": "6OZ5B18sbl1A"
      }
    },
    {
      "cell_type": "code",
      "source": [
        "# Сохранение и загрузка модели\n",
        "# Сохранение\n",
        "torch.save({\n",
        "    'model_state_dict': lstm_model.state_dict(),\n",
        "    'optimizer_state_dict': lstm_optimizer.state_dict(),\n",
        "    'losses': lstm_losses,\n",
        "}, 'lstm_poetry_model.pth')\n"
      ],
      "metadata": {
        "id": "DZ3OVhubGx8Z"
      },
      "execution_count": 42,
      "outputs": []
    },
    {
      "cell_type": "code",
      "source": [
        "# Загрузка\n",
        "def load_model():\n",
        "    checkpoint = torch.load('lstm_poetry_model.pth')\n",
        "    model = PoetryLSTM(input_size, hidden_size, output_size)\n",
        "    model.load_state_dict(checkpoint['model_state_dict'])\n",
        "    optimizer = torch.optim.Adam(model.parameters(), lr=learning_rate)\n",
        "    optimizer.load_state_dict(checkpoint['optimizer_state_dict'])\n",
        "    return model, optimizer"
      ],
      "metadata": {
        "id": "EoJ34RduGzle"
      },
      "execution_count": 43,
      "outputs": []
    },
    {
      "cell_type": "code",
      "source": [
        "# Пример использования загруженной модели\n",
        "loaded_model, loaded_optimizer = load_model()\n",
        "print(\"\\nГенерация текста загруженной моделью:\")\n",
        "print(generate_lstm_sample(loaded_model, temperature=0.3))"
      ],
      "metadata": {
        "colab": {
          "base_uri": "https://localhost:8080/"
        },
        "id": "W3LDOZy8G1Jm",
        "outputId": "0db39d35-3932-42e2-92de-7d2e1a1074bc"
      },
      "execution_count": 47,
      "outputs": [
        {
          "output_type": "stream",
          "name": "stderr",
          "text": [
            "<ipython-input-43-5260ea4c0572>:3: FutureWarning: You are using `torch.load` with `weights_only=False` (the current default value), which uses the default pickle module implicitly. It is possible to construct malicious pickle data which will execute arbitrary code during unpickling (See https://github.com/pytorch/pytorch/blob/main/SECURITY.md#untrusted-models for more details). In a future release, the default value for `weights_only` will be flipped to `True`. This limits the functions that could be executed during unpickling. Arbitrary objects will no longer be allowed to be loaded via this mode unless they are explicitly allowlisted by the user via `torch.serialization.add_safe_globals`. We recommend you start setting `weights_only=True` for any use case where you don't have full control of the loaded file. Please open an issue on GitHub for any issues related to this experimental feature.\n",
            "  checkpoint = torch.load('lstm_poetry_model.pth')\n"
          ]
        },
        {
          "output_type": "stream",
          "name": "stdout",
          "text": [
            "\n",
            "Генерация текста загруженной моделью:\n",
            "Онегиной сердце он.\n",
            "в тот же думать он как страха,\n",
            "про тей пред нем страстей полка,\n",
            "и полут он на пред себой\n",
            "простит сод души своей дома,\n",
            "и с первый своей под нем подом,\n",
            "как была он отрадались,\n",
            "и всё так же не всех подам\n",
            "и под бедной верной приходит\n",
            "собедной ленский ком раздванить,\n",
            "и в не слистит, и встах под бедной\n",
            "она пред семей с себою свой.\n",
            "\n",
            "\n",
            "\n",
            "xxxii\n",
            "\n",
            "она в темной странный города,\n",
            "и под ней сердце не поднить,\n",
            "я не правда ль он уж бестой,\n",
            "и в сердце встречает сердца,\n",
            "как был он все встал в пос\n"
          ]
        }
      ]
    },
    {
      "cell_type": "code",
      "source": [
        "# Пример использования загруженной модели\n",
        "loaded_model, loaded_optimizer = load_model()\n",
        "print(\"\\nГенерация текста загруженной моделью:\")\n",
        "print(generate_lstm_sample(loaded_model, temperature=0.7))"
      ],
      "metadata": {
        "colab": {
          "base_uri": "https://localhost:8080/"
        },
        "id": "pMpaV5xbej8r",
        "outputId": "0dfa876c-64fc-41dc-a3ba-a1433b3e91db"
      },
      "execution_count": 48,
      "outputs": [
        {
          "output_type": "stream",
          "name": "stderr",
          "text": [
            "<ipython-input-43-5260ea4c0572>:3: FutureWarning: You are using `torch.load` with `weights_only=False` (the current default value), which uses the default pickle module implicitly. It is possible to construct malicious pickle data which will execute arbitrary code during unpickling (See https://github.com/pytorch/pytorch/blob/main/SECURITY.md#untrusted-models for more details). In a future release, the default value for `weights_only` will be flipped to `True`. This limits the functions that could be executed during unpickling. Arbitrary objects will no longer be allowed to be loaded via this mode unless they are explicitly allowlisted by the user via `torch.serialization.add_safe_globals`. We recommend you start setting `weights_only=True` for any use case where you don't have full control of the loaded file. Please open an issue on GitHub for any issues related to this experimental feature.\n",
            "  checkpoint = torch.load('lstm_poetry_model.pth')\n"
          ]
        },
        {
          "output_type": "stream",
          "name": "stdout",
          "text": [
            "\n",
            "Генерация текста загруженной моделью:\n",
            "Онегино правлатьй,\n",
            "довольно скорная шаткею\n",
            "в сердце приновшиц итуся\n",
            "он про скадали мой друг. —\n",
            "\n",
            "\n",
            "\n",
            "xxxi\n",
            "\n",
            "приссил векон сердце в переден;\n",
            "а то, потал,, славы блиг ведал он;\n",
            "и страс тайдави славо страдить,\n",
            "и накроваться от проста\n",
            "и м, дружны, присти мы надоганий\n",
            "и любит без радстил ни что с ним\n",
            "надважи знатьем была оден,\n",
            "и с ней состет без цвет своимам\n",
            "он был он вздохадь в тани мно,\n",
            "но как с ней суричи отрады,\n",
            "в васли страшным обаздовал,\n",
            "татьяна? в поли как небо;\n",
            "был перед, что нас на пруз молетем \n"
          ]
        }
      ]
    },
    {
      "cell_type": "markdown",
      "source": [
        " Проанализируем результат генерации текста с temperature=0.3:\n",
        "\n",
        "1. Структура текста:\n",
        "- Сохраняет стихотворную форму\n",
        "- Присутствует римская нумерация (\"xxxii\")\n",
        "- Строфическое деление соблюдается\n",
        "- Правильные переносы строк\n",
        "\n",
        "2. Лексика:\n",
        "Часто встречающиеся слова:\n",
        "- \"сердце\" (повторяется несколько раз)\n",
        "- \"страстей\"\n",
        "- \"бедной\"\n",
        "- \"встречает\"\n",
        "- \"странный\"\n",
        "\n",
        "3. Особенности при temperature=0.3:\n",
        "Преимущества:\n",
        "- Более консервативная генерация\n",
        "- Меньше неологизмов и ошибок\n",
        "- Более предсказуемый текст\n",
        "- Лучшая грамматическая согласованность\n",
        "\n",
        "Недостатки:\n",
        "- Частые повторения слов и фраз\n",
        "- Меньше креативности\n",
        "- Более шаблонный текст\n",
        "\n",
        "4. Семантический анализ:\n",
        "Основные темы:\n",
        "- Любовные переживания (\"сердце\", \"страстей\")\n",
        "- Меланхолия (\"бедной\", \"странный\")\n",
        "- Встречи и расставания (\"встречает\", \"приходит\")\n",
        "\n",
        "5. Сравнение с temperature=0.7:\n",
        "- Текст более предсказуемый\n",
        "- Меньше нестандартных конструкций\n",
        "- Лучше сохраняет смысловую связность\n",
        "- Более ограниченный словарный запас\n",
        "\n",
        "6. Качество генерации:\n",
        "Плюсы:\n",
        "- Более связный текст\n",
        "- Меньше грамматических ошибок\n",
        "- Лучше сохраняет стиль оригинала\n",
        "\n",
        "Минусы:\n",
        "- Менее разнообразный текст\n",
        "- Заметные повторы\n",
        "- Некоторая монотонность\n",
        "\n",
        "В целом, при temperature=0.3 модель генерирует более \"безопасный\", но менее креативный текст, что может быть предпочтительно."
      ],
      "metadata": {
        "id": "VAsRXFhkeWaa"
      }
    },
    {
      "cell_type": "markdown",
      "metadata": {
        "id": "_5zqgKZ7qpNI"
      },
      "source": [
        "### References\n",
        "1. <a href='http://karpathy.github.io/2015/05/21/rnn-effectiveness/'> Andrew Karpathy blog post about RNN. </a>\n",
        "There are several examples of genration: Shakespeare texts, Latex formulas, Linux Sourse Code and children names.\n",
        "2. <a href='https://github.com/karpathy/char-rnn'> Repo with char-rnn code </a>\n",
        "3. Cool repo with PyTorch examples: [link](https://github.com/spro/practical-pytorch`)"
      ]
    }
  ],
  "metadata": {
    "anaconda-cloud": {},
    "kernelspec": {
      "display_name": "Python 3",
      "language": "python",
      "name": "python3"
    },
    "language_info": {
      "codemirror_mode": {
        "name": "ipython",
        "version": 3
      },
      "file_extension": ".py",
      "mimetype": "text/x-python",
      "name": "python",
      "nbconvert_exporter": "python",
      "pygments_lexer": "ipython3",
      "version": "3.7.7"
    },
    "colab": {
      "provenance": [],
      "include_colab_link": true
    }
  },
  "nbformat": 4,
  "nbformat_minor": 0
}