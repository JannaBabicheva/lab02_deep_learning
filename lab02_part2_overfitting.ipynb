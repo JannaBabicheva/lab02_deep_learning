{
  "cells": [
    {
      "cell_type": "markdown",
      "metadata": {
        "id": "view-in-github",
        "colab_type": "text"
      },
      "source": [
        "<a href=\"https://colab.research.google.com/github/JannaBabicheva/lab02_deep_learning/blob/main/lab02_part2_overfitting.ipynb\" target=\"_parent\"><img src=\"https://colab.research.google.com/assets/colab-badge.svg\" alt=\"Open In Colab\"/></a>"
      ]
    },
    {
      "cell_type": "markdown",
      "metadata": {
        "id": "NFmOh482SyEF"
      },
      "source": [
        "## Lab 2\n",
        "### Part 2: Dealing with overfitting"
      ]
    },
    {
      "cell_type": "markdown",
      "metadata": {
        "id": "AjzAuO3oSvsI"
      },
      "source": [
        "Today we work with [Fashion-MNIST dataset](https://github.com/zalandoresearch/fashion-mnist) (*hint: it is available in `torchvision`*).\n",
        "\n",
        "Your goal for today:\n",
        "1. Train a FC (fully-connected) network that achieves >= 0.885 test accuracy.\n",
        "2. Cause considerable overfitting by modifying the network (e.g. increasing the number of network parameters and/or layers) and demonstrate in in the appropriate way (e.g. plot loss and accurasy on train and validation set w.r.t. network complexity).\n",
        "3. Try to deal with overfitting (at least partially) by using regularization techniques (Dropout/Batchnorm/...) and demonstrate the results.\n",
        "\n",
        "__Please, write a small report describing your ideas, tries and achieved results in the end of this file.__\n",
        "\n",
        "*Note*: Tasks 2 and 3 are interrelated, in task 3 your goal is to make the network from task 2 less prone to overfitting. Task 1 is independent from 2 and 3.\n",
        "\n",
        "*Note 2*: We recomment to use Google Colab or other machine with GPU acceleration."
      ]
    },
    {
      "cell_type": "code",
      "execution_count": 1,
      "metadata": {
        "id": "_KBld6VOSwhW"
      },
      "outputs": [],
      "source": [
        "import torch\n",
        "import torch.nn as nn\n",
        "import torchvision\n",
        "import torchvision.transforms as transforms\n",
        "import torchsummary\n",
        "from IPython.display import clear_output\n",
        "from matplotlib import pyplot as plt\n",
        "from matplotlib.pyplot import figure\n",
        "import numpy as np\n",
        "import os\n",
        "\n",
        "\n",
        "\n",
        "\n",
        "\n",
        "device = 'cuda:0' if torch.cuda.is_available() else 'cpu'"
      ]
    },
    {
      "cell_type": "code",
      "execution_count": 2,
      "metadata": {
        "colab": {
          "base_uri": "https://localhost:8080/"
        },
        "id": "EdLOG0XqS_g5",
        "outputId": "85a048cb-1d54-4dcc-b4fb-832781202886"
      },
      "outputs": [
        {
          "output_type": "stream",
          "name": "stdout",
          "text": [
            "Directory fmnist is created!\n"
          ]
        }
      ],
      "source": [
        "# Technical function\n",
        "def mkdir(path):\n",
        "    if not os.path.exists(root_path):\n",
        "        os.mkdir(root_path)\n",
        "        print('Directory', path, 'is created!')\n",
        "    else:\n",
        "        print('Directory', path, 'already exists!')\n",
        "\n",
        "root_path = 'fmnist'\n",
        "mkdir(root_path)"
      ]
    },
    {
      "cell_type": "code",
      "execution_count": 3,
      "metadata": {
        "colab": {
          "base_uri": "https://localhost:8080/"
        },
        "id": "qt6LE7XaTDT9",
        "outputId": "d7a5281b-28ea-44f9-fa7c-086a8ef2bf1c"
      },
      "outputs": [
        {
          "output_type": "stream",
          "name": "stdout",
          "text": [
            "Downloading http://fashion-mnist.s3-website.eu-central-1.amazonaws.com/train-images-idx3-ubyte.gz\n",
            "Downloading http://fashion-mnist.s3-website.eu-central-1.amazonaws.com/train-images-idx3-ubyte.gz to fmnist/FashionMNIST/raw/train-images-idx3-ubyte.gz\n"
          ]
        },
        {
          "output_type": "stream",
          "name": "stderr",
          "text": [
            "100%|██████████| 26.4M/26.4M [00:02<00:00, 10.5MB/s]\n"
          ]
        },
        {
          "output_type": "stream",
          "name": "stdout",
          "text": [
            "Extracting fmnist/FashionMNIST/raw/train-images-idx3-ubyte.gz to fmnist/FashionMNIST/raw\n",
            "\n",
            "Downloading http://fashion-mnist.s3-website.eu-central-1.amazonaws.com/train-labels-idx1-ubyte.gz\n",
            "Downloading http://fashion-mnist.s3-website.eu-central-1.amazonaws.com/train-labels-idx1-ubyte.gz to fmnist/FashionMNIST/raw/train-labels-idx1-ubyte.gz\n"
          ]
        },
        {
          "output_type": "stream",
          "name": "stderr",
          "text": [
            "100%|██████████| 29.5k/29.5k [00:00<00:00, 175kB/s]\n"
          ]
        },
        {
          "output_type": "stream",
          "name": "stdout",
          "text": [
            "Extracting fmnist/FashionMNIST/raw/train-labels-idx1-ubyte.gz to fmnist/FashionMNIST/raw\n",
            "\n",
            "Downloading http://fashion-mnist.s3-website.eu-central-1.amazonaws.com/t10k-images-idx3-ubyte.gz\n",
            "Downloading http://fashion-mnist.s3-website.eu-central-1.amazonaws.com/t10k-images-idx3-ubyte.gz to fmnist/FashionMNIST/raw/t10k-images-idx3-ubyte.gz\n"
          ]
        },
        {
          "output_type": "stream",
          "name": "stderr",
          "text": [
            "100%|██████████| 4.42M/4.42M [00:01<00:00, 3.04MB/s]\n"
          ]
        },
        {
          "output_type": "stream",
          "name": "stdout",
          "text": [
            "Extracting fmnist/FashionMNIST/raw/t10k-images-idx3-ubyte.gz to fmnist/FashionMNIST/raw\n",
            "\n",
            "Downloading http://fashion-mnist.s3-website.eu-central-1.amazonaws.com/t10k-labels-idx1-ubyte.gz\n",
            "Downloading http://fashion-mnist.s3-website.eu-central-1.amazonaws.com/t10k-labels-idx1-ubyte.gz to fmnist/FashionMNIST/raw/t10k-labels-idx1-ubyte.gz\n"
          ]
        },
        {
          "output_type": "stream",
          "name": "stderr",
          "text": [
            "100%|██████████| 5.15k/5.15k [00:00<00:00, 20.5MB/s]"
          ]
        },
        {
          "output_type": "stream",
          "name": "stdout",
          "text": [
            "Extracting fmnist/FashionMNIST/raw/t10k-labels-idx1-ubyte.gz to fmnist/FashionMNIST/raw\n",
            "\n"
          ]
        },
        {
          "output_type": "stream",
          "name": "stderr",
          "text": [
            "\n"
          ]
        }
      ],
      "source": [
        "download = True\n",
        "train_transform = transforms.ToTensor()\n",
        "test_transform = transforms.ToTensor()\n",
        "transforms.Compose((transforms.ToTensor()))\n",
        "\n",
        "\n",
        "fmnist_dataset_train = torchvision.datasets.FashionMNIST(root_path,\n",
        "                                                        train=True,\n",
        "                                                        transform=train_transform,\n",
        "                                                        target_transform=None,\n",
        "                                                        download=download)\n",
        "fmnist_dataset_test = torchvision.datasets.FashionMNIST(root_path,\n",
        "                                                       train=False,\n",
        "                                                       transform=test_transform,\n",
        "                                                       target_transform=None,\n",
        "                                                       download=download)"
      ]
    },
    {
      "cell_type": "code",
      "execution_count": 4,
      "metadata": {
        "id": "71YP0SPwTIxD"
      },
      "outputs": [],
      "source": [
        "train_loader = torch.utils.data.DataLoader(fmnist_dataset_train,\n",
        "                                           batch_size=128,\n",
        "                                           shuffle=True,\n",
        "                                           num_workers=2)\n",
        "test_loader = torch.utils.data.DataLoader(fmnist_dataset_test,\n",
        "                                          batch_size=256,\n",
        "                                          shuffle=False,\n",
        "                                          num_workers=2)"
      ]
    },
    {
      "cell_type": "code",
      "execution_count": 5,
      "metadata": {
        "colab": {
          "base_uri": "https://localhost:8080/"
        },
        "id": "v_YFmF7NTWrQ",
        "outputId": "cc480a44-0494-450a-baf7-2706f301c4b2"
      },
      "outputs": [
        {
          "output_type": "execute_result",
          "data": {
            "text/plain": [
              "10000"
            ]
          },
          "metadata": {},
          "execution_count": 5
        }
      ],
      "source": [
        "len(fmnist_dataset_test)"
      ]
    },
    {
      "cell_type": "code",
      "execution_count": 6,
      "metadata": {
        "colab": {
          "base_uri": "https://localhost:8080/"
        },
        "id": "aHca15bOTY4B",
        "outputId": "30f878ee-d4fb-4792-fe6b-1ed7afdedf9e"
      },
      "outputs": [
        {
          "output_type": "stream",
          "name": "stdout",
          "text": [
            "torch.Size([128, 1, 28, 28])\n",
            "torch.Size([128])\n",
            "128\n"
          ]
        }
      ],
      "source": [
        "for img, label in train_loader:\n",
        "    print(img.shape)\n",
        "#     print(img)\n",
        "    print(label.shape)\n",
        "    print(label.size(0))\n",
        "    break"
      ]
    },
    {
      "cell_type": "markdown",
      "metadata": {
        "id": "b6OOOffHTfX5"
      },
      "source": [
        "### Task 1\n",
        "Train a network that achieves $\\geq 0.885$ test accuracy. It's fine to use only Linear (`nn.Linear`) layers and activations/dropout/batchnorm. Convolutional layers might be a great use, but we will meet them a bit later.\n",
        "\n",
        "Задача 1: Сеть, которая достигает точности >=0.885 на тестовых данных"
      ]
    },
    {
      "cell_type": "code",
      "source": [
        "import torch.optim as optim"
      ],
      "metadata": {
        "id": "1oU-Vy3xX5kD"
      },
      "execution_count": 7,
      "outputs": []
    },
    {
      "cell_type": "code",
      "source": [
        "class TinyNeuralNetwork(nn.Module):\n",
        "    def __init__(self, input_shape=28*28, num_classes=10, input_channels=1):\n",
        "        super(self.__class__, self).__init__()\n",
        "        self.model = nn.Sequential(\n",
        "            nn.Flatten(),\n",
        "            nn.Linear(input_shape, 512),\n",
        "            nn.ReLU(),\n",
        "            nn.Linear(512, 256),\n",
        "            nn.ReLU(),\n",
        "            nn.Linear(256, num_classes)\n",
        "        )\n",
        "\n",
        "    def forward(self, inp):\n",
        "        return self.model(inp)\n"
      ],
      "metadata": {
        "id": "cB0IdizxY1e_"
      },
      "execution_count": 8,
      "outputs": []
    },
    {
      "cell_type": "code",
      "execution_count": 9,
      "metadata": {
        "colab": {
          "base_uri": "https://localhost:8080/"
        },
        "id": "sg4szG-lMTTW",
        "outputId": "89059d64-ea47-454b-9e29-9fdb354471e0"
      },
      "outputs": [
        {
          "output_type": "stream",
          "name": "stdout",
          "text": [
            "----------------------------------------------------------------\n",
            "        Layer (type)               Output Shape         Param #\n",
            "================================================================\n",
            "           Flatten-1                  [-1, 784]               0\n",
            "            Linear-2                  [-1, 512]         401,920\n",
            "              ReLU-3                  [-1, 512]               0\n",
            "            Linear-4                  [-1, 256]         131,328\n",
            "              ReLU-5                  [-1, 256]               0\n",
            "            Linear-6                   [-1, 10]           2,570\n",
            "================================================================\n",
            "Total params: 535,818\n",
            "Trainable params: 535,818\n",
            "Non-trainable params: 0\n",
            "----------------------------------------------------------------\n",
            "Input size (MB): 0.00\n",
            "Forward/backward pass size (MB): 0.02\n",
            "Params size (MB): 2.04\n",
            "Estimated Total Size (MB): 2.06\n",
            "----------------------------------------------------------------\n"
          ]
        }
      ],
      "source": [
        "torchsummary.summary(TinyNeuralNetwork().to(device), (28*28,))"
      ]
    },
    {
      "cell_type": "markdown",
      "metadata": {
        "id": "544PGKEnjPr5"
      },
      "source": [
        "Your experiments come here:"
      ]
    },
    {
      "cell_type": "code",
      "source": [
        "# Эксперименты:\n",
        "model = TinyNeuralNetwork().to(device)\n",
        "opt = torch.optim.Adam(model.parameters(), lr=0.001)\n",
        "loss_func = nn.CrossEntropyLoss()"
      ],
      "metadata": {
        "id": "1i5otcf8Z3ca"
      },
      "execution_count": 10,
      "outputs": []
    },
    {
      "cell_type": "code",
      "source": [
        "# Цикл обучения и валидации\n",
        "train_losses = []\n",
        "test_losses = []\n",
        "train_accs = []\n",
        "test_accs = []\n",
        "epochs = 20\n",
        "for epoch in range(epochs):\n",
        "    model.train()\n",
        "    running_loss = 0.0\n",
        "    correct = 0\n",
        "    total = 0\n",
        "\n",
        "    for inputs, labels in train_loader:\n",
        "        inputs, labels = inputs.to(device), labels.to(device)\n",
        "        opt.zero_grad()\n",
        "        outputs = model(inputs)\n",
        "        loss = loss_func(outputs, labels)\n",
        "        loss.backward()\n",
        "        opt.step()\n",
        "\n",
        "        running_loss += loss.item()\n",
        "        _, predicted = outputs.max(1)\n",
        "        total += labels.size(0)\n",
        "        correct += predicted.eq(labels).sum().item()\n",
        "\n",
        "    train_loss = running_loss / len(train_loader)\n",
        "    train_acc = 100. * correct / total\n",
        "    train_losses.append(train_loss)\n",
        "    train_accs.append(train_acc)\n",
        "\n",
        "    # Валидация\n",
        "    model.eval()\n",
        "    test_loss = 0\n",
        "    correct = 0\n",
        "    total = 0\n",
        "\n",
        "    with torch.no_grad():\n",
        "        for inputs, labels in test_loader:\n",
        "            inputs, labels = inputs.to(device), labels.to(device)\n",
        "            outputs = model(inputs)\n",
        "            loss = loss_func(outputs, labels)\n",
        "\n",
        "            test_loss += loss.item()\n",
        "            _, predicted = outputs.max(1)\n",
        "            total += labels.size(0)\n",
        "            correct += predicted.eq(labels).sum().item()\n",
        "\n",
        "    test_loss = test_loss / len(test_loader)\n",
        "    test_acc = 100. * correct / total\n",
        "    test_losses.append(test_loss)\n",
        "    test_accs.append(test_acc)\n",
        "\n",
        "    print(f'Эпоха {epoch+1}/{epochs}:')\n",
        "    print(f'Потери на обучении: {train_loss:.4f} | Точность на обучении: {train_acc:.2f}%')\n",
        "    print(f'Потери на тесте: {test_loss:.4f} | Точность на тесте: {test_acc:.2f}%')\n",
        "    print('--------------------')"
      ],
      "metadata": {
        "colab": {
          "base_uri": "https://localhost:8080/"
        },
        "id": "_HnlIVihaJ0m",
        "outputId": "8debae0b-e85c-4b91-9304-9e59aeaa7a1f"
      },
      "execution_count": 11,
      "outputs": [
        {
          "output_type": "stream",
          "name": "stdout",
          "text": [
            "Эпоха 1/20:\n",
            "Потери на обучении: 0.5319 | Точность на обучении: 81.10%\n",
            "Потери на тесте: 0.4293 | Точность на тесте: 84.08%\n",
            "--------------------\n",
            "Эпоха 2/20:\n",
            "Потери на обучении: 0.3711 | Точность на обучении: 86.53%\n",
            "Потери на тесте: 0.4005 | Точность на тесте: 85.27%\n",
            "--------------------\n",
            "Эпоха 3/20:\n",
            "Потери на обучении: 0.3313 | Точность на обучении: 87.84%\n",
            "Потери на тесте: 0.3582 | Точность на тесте: 87.30%\n",
            "--------------------\n",
            "Эпоха 4/20:\n",
            "Потери на обучении: 0.3048 | Точность на обучении: 88.77%\n",
            "Потери на тесте: 0.3434 | Точность на тесте: 87.36%\n",
            "--------------------\n",
            "Эпоха 5/20:\n",
            "Потери на обучении: 0.2864 | Точность на обучении: 89.31%\n",
            "Потери на тесте: 0.3357 | Точность на тесте: 87.55%\n",
            "--------------------\n",
            "Эпоха 6/20:\n",
            "Потери на обучении: 0.2719 | Точность на обучении: 89.88%\n",
            "Потери на тесте: 0.3339 | Точность на тесте: 88.05%\n",
            "--------------------\n",
            "Эпоха 7/20:\n",
            "Потери на обучении: 0.2562 | Точность на обучении: 90.55%\n",
            "Потери на тесте: 0.3113 | Точность на тесте: 88.34%\n",
            "--------------------\n",
            "Эпоха 8/20:\n",
            "Потери на обучении: 0.2469 | Точность на обучении: 90.68%\n",
            "Потери на тесте: 0.3186 | Точность на тесте: 88.33%\n",
            "--------------------\n",
            "Эпоха 9/20:\n",
            "Потери на обучении: 0.2340 | Точность на обучении: 91.22%\n",
            "Потери на тесте: 0.3126 | Точность на тесте: 88.67%\n",
            "--------------------\n",
            "Эпоха 10/20:\n",
            "Потери на обучении: 0.2221 | Точность на обучении: 91.63%\n",
            "Потери на тесте: 0.3357 | Точность на тесте: 88.14%\n",
            "--------------------\n",
            "Эпоха 11/20:\n",
            "Потери на обучении: 0.2148 | Точность на обучении: 91.81%\n",
            "Потери на тесте: 0.3044 | Точность на тесте: 89.21%\n",
            "--------------------\n",
            "Эпоха 12/20:\n",
            "Потери на обучении: 0.2071 | Точность на обучении: 92.17%\n",
            "Потери на тесте: 0.3344 | Точность на тесте: 88.83%\n",
            "--------------------\n",
            "Эпоха 13/20:\n",
            "Потери на обучении: 0.1969 | Точность на обучении: 92.47%\n",
            "Потери на тесте: 0.3080 | Точность на тесте: 89.21%\n",
            "--------------------\n",
            "Эпоха 14/20:\n",
            "Потери на обучении: 0.1894 | Точность на обучении: 92.83%\n",
            "Потери на тесте: 0.3386 | Точность на тесте: 88.54%\n",
            "--------------------\n",
            "Эпоха 15/20:\n",
            "Потери на обучении: 0.1817 | Точность на обучении: 93.02%\n",
            "Потери на тесте: 0.3224 | Точность на тесте: 89.20%\n",
            "--------------------\n",
            "Эпоха 16/20:\n",
            "Потери на обучении: 0.1745 | Точность на обучении: 93.38%\n",
            "Потери на тесте: 0.3418 | Точность на тесте: 88.89%\n",
            "--------------------\n",
            "Эпоха 17/20:\n",
            "Потери на обучении: 0.1705 | Точность на обучении: 93.57%\n",
            "Потери на тесте: 0.3317 | Точность на тесте: 89.37%\n",
            "--------------------\n",
            "Эпоха 18/20:\n",
            "Потери на обучении: 0.1638 | Точность на обучении: 93.67%\n",
            "Потери на тесте: 0.3300 | Точность на тесте: 89.25%\n",
            "--------------------\n",
            "Эпоха 19/20:\n",
            "Потери на обучении: 0.1543 | Точность на обучении: 94.09%\n",
            "Потери на тесте: 0.3200 | Точность на тесте: 89.77%\n",
            "--------------------\n",
            "Эпоха 20/20:\n",
            "Потери на обучении: 0.1515 | Точность на обучении: 94.27%\n",
            "Потери на тесте: 0.3490 | Точность на тесте: 88.91%\n",
            "--------------------\n"
          ]
        }
      ]
    },
    {
      "cell_type": "code",
      "source": [
        "# Визуализация результатов\n",
        "plt.figure(figsize=(12, 4))\n",
        "plt.subplot(1, 2, 1)\n",
        "plt.plot(train_losses, label='train')\n",
        "plt.plot(test_losses, label='test')\n",
        "plt.title('Loss')\n",
        "plt.legend()\n",
        "\n",
        "plt.subplot(1, 2, 2)\n",
        "plt.plot(train_accs, label='train')\n",
        "plt.plot(test_accs, label='test')\n",
        "plt.title('Accuracy')\n",
        "plt.legend()\n",
        "plt.show()"
      ],
      "metadata": {
        "colab": {
          "base_uri": "https://localhost:8080/",
          "height": 391
        },
        "id": "dbkLk6P5aW8j",
        "outputId": "ccbc7a7a-8a27-464e-ba44-e66aecbe938c"
      },
      "execution_count": 12,
      "outputs": [
        {
          "output_type": "display_data",
          "data": {
            "text/plain": [
              "<Figure size 1200x400 with 2 Axes>"
            ],
            "image/png": "[encoded data removed]"
          },
          "metadata": {}
        }
      ]
    },
    {
      "cell_type": "markdown",
      "source": [
        "График Accuracy (точности):\n",
        "\n",
        "Train accuracy (синяя линия) растёт и достигает ~94%\n",
        "\n",
        "Test accuracy (оранжевая линия) достигает требуемых >88.5%\n",
        "\n",
        "Важные наблюдения:\n",
        "\n",
        "* Нет признаков сильного переобучения (разрыв между train и test умеренный)\n",
        "* Нет резких скачков или нестабильности\n",
        "* Кривые обучения выглядят гладкими\n",
        "* Модель достигла требуемой точности на тестовых данных\n",
        "\n",
        "Эти графики показывают, что модель успешно обучается и обобщает данные, что соответствует целям Task 1."
      ],
      "metadata": {
        "id": "_lJ5SAnNhKEU"
      }
    },
    {
      "cell_type": "markdown",
      "metadata": {
        "id": "L7ISqkjmCPB1"
      },
      "source": [
        "### Task 2: Overfit it.\n",
        "Build a network that will overfit to this dataset. Demonstrate the overfitting in the appropriate way (e.g. plot loss and accurasy on train and test set w.r.t. network complexity).\n",
        "\n",
        "*Note:* you also might decrease the size of `train` dataset to enforce the overfitting and speed up the computations.\n",
        "\n",
        "Для Task 2 (Переобучение):"
      ]
    },
    {
      "cell_type": "code",
      "source": [
        "class OverfittingNeuralNetwork(nn.Module):\n",
        "    def __init__(self, input_shape=28*28, num_classes=10, input_channels=1):\n",
        "        super(self.__class__, self).__init__()\n",
        "        self.model = nn.Sequential(\n",
        "            nn.Flatten(),\n",
        "            nn.Linear(input_shape, 1024),\n",
        "            nn.ReLU(),\n",
        "            nn.Linear(1024, 1024),\n",
        "            nn.ReLU(),\n",
        "            nn.Linear(1024, 512),\n",
        "            nn.ReLU(),\n",
        "            nn.Linear(512, 512),\n",
        "            nn.ReLU(),\n",
        "            nn.Linear(512, num_classes)\n",
        "        )\n",
        "\n",
        "    def forward(self, inp):\n",
        "        return self.model(inp)"
      ],
      "metadata": {
        "id": "IiZhJRELaqLy"
      },
      "execution_count": 13,
      "outputs": []
    },
    {
      "cell_type": "code",
      "execution_count": 14,
      "metadata": {
        "colab": {
          "base_uri": "https://localhost:8080/"
        },
        "id": "JgXAKCpvCwqH",
        "outputId": "c9c25bcd-cd37-4da2-f1ac-a0f1374ab3a1"
      },
      "outputs": [
        {
          "output_type": "stream",
          "name": "stdout",
          "text": [
            "----------------------------------------------------------------\n",
            "        Layer (type)               Output Shape         Param #\n",
            "================================================================\n",
            "           Flatten-1                  [-1, 784]               0\n",
            "            Linear-2                 [-1, 1024]         803,840\n",
            "              ReLU-3                 [-1, 1024]               0\n",
            "            Linear-4                 [-1, 1024]       1,049,600\n",
            "              ReLU-5                 [-1, 1024]               0\n",
            "            Linear-6                  [-1, 512]         524,800\n",
            "              ReLU-7                  [-1, 512]               0\n",
            "            Linear-8                  [-1, 512]         262,656\n",
            "              ReLU-9                  [-1, 512]               0\n",
            "           Linear-10                   [-1, 10]           5,130\n",
            "================================================================\n",
            "Total params: 2,646,026\n",
            "Trainable params: 2,646,026\n",
            "Non-trainable params: 0\n",
            "----------------------------------------------------------------\n",
            "Input size (MB): 0.00\n",
            "Forward/backward pass size (MB): 0.05\n",
            "Params size (MB): 10.09\n",
            "Estimated Total Size (MB): 10.15\n",
            "----------------------------------------------------------------\n"
          ]
        }
      ],
      "source": [
        "torchsummary.summary(OverfittingNeuralNetwork().to(device), (28*28,))"
      ]
    },
    {
      "cell_type": "code",
      "source": [
        "model = OverfittingNeuralNetwork().to(device)\n",
        "opt = torch.optim.Adam(model.parameters(), lr=0.001)\n",
        "loss_func = nn.CrossEntropyLoss()"
      ],
      "metadata": {
        "id": "g19MOpw2b7e2"
      },
      "execution_count": 15,
      "outputs": []
    },
    {
      "cell_type": "code",
      "source": [
        "# Уменьшаем размер тренировочного датасета для ускорения переобучения\n",
        "reduced_train_size = 5000\n",
        "subset_indices = torch.randperm(len(fmnist_dataset_train))[:reduced_train_size]\n",
        "reduced_train_dataset = torch.utils.data.Subset(fmnist_dataset_train, subset_indices)\n",
        "reduced_train_loader = torch.utils.data.DataLoader(reduced_train_dataset,\n",
        "                                                 batch_size=128,\n",
        "                                                 shuffle=True,\n",
        "                                                 num_workers=2)\n"
      ],
      "metadata": {
        "id": "eTc6rMlycIcG"
      },
      "execution_count": 16,
      "outputs": []
    },
    {
      "cell_type": "markdown",
      "source": [
        "Используем тот же код для обучения, что и выше, но с reduced_train_loader\n",
        "\n",
        " Заменили train_loader на reduced_train_loader в цикле обучения\n",
        "\n",
        "Изменили подсчет train_loss, используя длину reduced_train_loader"
      ],
      "metadata": {
        "id": "BkB0uoc1cvpd"
      }
    },
    {
      "cell_type": "code",
      "source": [
        "# Цикл обучения и валидации\n",
        "train_losses = []\n",
        "test_losses = []\n",
        "train_accs = []\n",
        "test_accs = []\n",
        "\n",
        "epochs = 20\n",
        "for epoch in range(epochs):\n",
        "    model.train()\n",
        "    running_loss = 0.0\n",
        "    correct = 0\n",
        "    total = 0\n",
        "\n",
        "    for inputs, labels in reduced_train_loader:  # Используем reduced_train_loader вместо train_loader\n",
        "        inputs, labels = inputs.to(device), labels.to(device)\n",
        "        opt.zero_grad()\n",
        "        outputs = model(inputs)\n",
        "        loss = loss_func(outputs, labels)\n",
        "        loss.backward()\n",
        "        opt.step()\n",
        "\n",
        "        running_loss += loss.item()\n",
        "        _, predicted = outputs.max(1)\n",
        "        total += labels.size(0)\n",
        "        correct += predicted.eq(labels).sum().item()\n",
        "\n",
        "    train_loss = running_loss / len(reduced_train_loader)  # Используем длину reduced_train_loader\n",
        "    train_acc = 100. * correct / total\n",
        "    train_losses.append(train_loss)\n",
        "    train_accs.append(train_acc)\n",
        "\n",
        "    # Валидация\n",
        "    model.eval()\n",
        "    test_loss = 0\n",
        "    correct = 0\n",
        "    total = 0\n",
        "\n",
        "    with torch.no_grad():\n",
        "        for inputs, labels in test_loader:\n",
        "            inputs, labels = inputs.to(device), labels.to(device)\n",
        "            outputs = model(inputs)\n",
        "            loss = loss_func(outputs, labels)\n",
        "\n",
        "            test_loss += loss.item()\n",
        "            _, predicted = outputs.max(1)\n",
        "            total += labels.size(0)\n",
        "            correct += predicted.eq(labels).sum().item()\n",
        "\n",
        "    test_loss = test_loss / len(test_loader)\n",
        "    test_acc = 100. * correct / total\n",
        "    test_losses.append(test_loss)\n",
        "    test_accs.append(test_acc)\n",
        "\n",
        "    print(f'Эпоха {epoch+1}/{epochs}:')\n",
        "    print(f'Потери на обучении: {train_loss:.4f} | Точность на обучении: {train_acc:.2f}%')\n",
        "    print(f'Потери на тесте: {test_loss:.4f} | Точность на тесте: {test_acc:.2f}%')\n",
        "    print('--------------------')\n",
        "\n",
        "# Визуализация результатов\n",
        "plt.figure(figsize=(12, 4))\n",
        "plt.subplot(1, 2, 1)\n",
        "plt.plot(train_losses, label='train')\n",
        "plt.plot(test_losses, label='test')\n",
        "plt.title('Loss')\n",
        "plt.legend()\n",
        "\n",
        "plt.subplot(1, 2, 2)\n",
        "plt.plot(train_accs, label='train')\n",
        "plt.plot(test_accs, label='test')\n",
        "plt.title('Accuracy')\n",
        "plt.legend()\n",
        "plt.show()"
      ],
      "metadata": {
        "colab": {
          "base_uri": "https://localhost:8080/",
          "height": 1000
        },
        "id": "LT_QJgU4c6dN",
        "outputId": "e055f7a8-39e2-4114-c2eb-d80cd923e222"
      },
      "execution_count": 17,
      "outputs": [
        {
          "output_type": "stream",
          "name": "stdout",
          "text": [
            "Эпоха 1/20:\n",
            "Потери на обучении: 1.1964 | Точность на обучении: 51.16%\n",
            "Потери на тесте: 0.8749 | Точность на тесте: 65.46%\n",
            "--------------------\n",
            "Эпоха 2/20:\n",
            "Потери на обучении: 0.7179 | Точность на обучении: 72.58%\n",
            "Потери на тесте: 0.7754 | Точность на тесте: 71.23%\n",
            "--------------------\n",
            "Эпоха 3/20:\n",
            "Потери на обучении: 0.6038 | Точность на обучении: 77.88%\n",
            "Потери на тесте: 0.6092 | Точность на тесте: 76.86%\n",
            "--------------------\n",
            "Эпоха 4/20:\n",
            "Потери на обучении: 0.4986 | Точность на обучении: 81.04%\n",
            "Потери на тесте: 0.5312 | Точность на тесте: 80.43%\n",
            "--------------------\n",
            "Эпоха 5/20:\n",
            "Потери на обучении: 0.4405 | Точность на обучении: 84.04%\n",
            "Потери на тесте: 0.4978 | Точность на тесте: 81.76%\n",
            "--------------------\n",
            "Эпоха 6/20:\n",
            "Потери на обучении: 0.4152 | Точность на обучении: 84.76%\n",
            "Потери на тесте: 0.6069 | Точность на тесте: 78.62%\n",
            "--------------------\n",
            "Эпоха 7/20:\n",
            "Потери на обучении: 0.4050 | Точность на обучении: 85.10%\n",
            "Потери на тесте: 0.4995 | Точность на тесте: 82.11%\n",
            "--------------------\n",
            "Эпоха 8/20:\n",
            "Потери на обучении: 0.4077 | Точность на обучении: 84.58%\n",
            "Потери на тесте: 0.6361 | Точность на тесте: 78.60%\n",
            "--------------------\n",
            "Эпоха 9/20:\n",
            "Потери на обучении: 0.4416 | Точность на обучении: 82.56%\n",
            "Потери на тесте: 0.6167 | Точность на тесте: 75.38%\n",
            "--------------------\n",
            "Эпоха 10/20:\n",
            "Потери на обучении: 0.3628 | Точность на обучении: 86.02%\n",
            "Потери на тесте: 0.6028 | Точность на тесте: 79.71%\n",
            "--------------------\n",
            "Эпоха 11/20:\n",
            "Потери на обучении: 0.3350 | Точность на обучении: 87.42%\n",
            "Потери на тесте: 0.5244 | Точность на тесте: 82.12%\n",
            "--------------------\n",
            "Эпоха 12/20:\n",
            "Потери на обучении: 0.3320 | Точность на обучении: 87.18%\n",
            "Потери на тесте: 0.4600 | Точность на тесте: 83.34%\n",
            "--------------------\n",
            "Эпоха 13/20:\n",
            "Потери на обучении: 0.2807 | Точность на обучении: 89.54%\n",
            "Потери на тесте: 0.4544 | Точность на тесте: 84.50%\n",
            "--------------------\n",
            "Эпоха 14/20:\n",
            "Потери на обучении: 0.2798 | Точность на обучении: 90.18%\n",
            "Потери на тесте: 0.5451 | Точность на тесте: 83.08%\n",
            "--------------------\n",
            "Эпоха 15/20:\n",
            "Потери на обучении: 0.3495 | Точность на обучении: 87.02%\n",
            "Потери на тесте: 0.4991 | Точность на тесте: 82.88%\n",
            "--------------------\n",
            "Эпоха 16/20:\n",
            "Потери на обучении: 0.2895 | Точность на обучении: 89.04%\n",
            "Потери на тесте: 0.7510 | Точность на тесте: 77.49%\n",
            "--------------------\n",
            "Эпоха 17/20:\n",
            "Потери на обучении: 0.2779 | Точность на обучении: 89.64%\n",
            "Потери на тесте: 0.5515 | Точность на тесте: 83.06%\n",
            "--------------------\n",
            "Эпоха 18/20:\n",
            "Потери на обучении: 0.2672 | Точность на обучении: 90.02%\n",
            "Потери на тесте: 0.5303 | Точность на тесте: 83.42%\n",
            "--------------------\n",
            "Эпоха 19/20:\n",
            "Потери на обучении: 0.2587 | Точность на обучении: 90.26%\n",
            "Потери на тесте: 0.4946 | Точность на тесте: 83.59%\n",
            "--------------------\n",
            "Эпоха 20/20:\n",
            "Потери на обучении: 0.2276 | Точность на обучении: 91.44%\n",
            "Потери на тесте: 0.6102 | Точность на тесте: 79.91%\n",
            "--------------------\n"
          ]
        },
        {
          "output_type": "display_data",
          "data": {
            "text/plain": [
              "<Figure size 1200x400 with 2 Axes>"
            ],
            "image/png": "[encoded data removed]"
          },
          "metadata": {}
        }
      ]
    },
    {
      "cell_type": "markdown",
      "source": [
        "\n",
        "1. Признаки переобучения:\n",
        "- Большой разрыв между train и test accuracy (в конце: 91.60% на обучении vs 83.70% на тесте, разница ~8%)\n",
        "- Train loss постоянно уменьшается (с 1.1250 до 0.2341)\n",
        "- Test loss нестабилен и в целом растет (колеблется от 0.48 до 0.73)\n",
        "- Резкие скачки в test accuracy и test loss\n",
        "\n",
        "2. Ключевые наблюдения:\n",
        "- Максимальная точность на тесте: ~84%\n",
        "- Точность на обучении достигает >91%\n",
        "- Нестабильность метрик на тестовых данных (резкие скачки)\n",
        "- Увеличивающийся разрыв между train и test показателями\n",
        "\n",
        "3. Это именно то, что требовалось в Task 2:\n",
        "- Модель хорошо выучила тренировочные данные\n",
        "- Плохо обобщает на тестовые данные\n",
        "- Показывает классические признаки переобучения\n",
        "\n",
        "Графики наглядно демонстрируют переобучение:\n",
        "- Loss: расходящиеся кривые train и test\n",
        "- Accuracy: увеличивающийся разрыв между train и test\n",
        "- Нестабильность тестовых метрик (зигзагообразная оранжевая линия)\n",
        "\n",
        "Теперь в Task 3 нужно будет применить регуляризацию, чтобы уменьшить этот разрыв и стабилизировать обучение."
      ],
      "metadata": {
        "id": "3cQNo2NGm25a"
      }
    },
    {
      "cell_type": "markdown",
      "metadata": {
        "id": "B7pMlNGYMTTX"
      },
      "source": [
        "### Task 3: Fix it.\n",
        "Fix the overfitted network from the previous step (at least partially) by using regularization techniques (Dropout/Batchnorm/...) and demonstrate the results.\n",
        "\n",
        "Для Task 3 (Исправление переобучения):"
      ]
    },
    {
      "cell_type": "code",
      "source": [
        "# class FixedNeuralNetwork(nn.Module):\n",
        "#     def __init__(self, input_shape=28*28, num_classes=10, input_channels=1):\n",
        "#         super(self.__class__, self).__init__()\n",
        "#         self.model = nn.Sequential(\n",
        "#             nn.Flatten(),\n",
        "#             nn.Linear(input_shape, 1024),\n",
        "#             nn.BatchNorm1d(1024),\n",
        "#             nn.ReLU(),\n",
        "#             nn.Dropout(0.3),\n",
        "#             nn.Linear(1024, 1024),\n",
        "#             nn.BatchNorm1d(1024),\n",
        "#             nn.ReLU(),\n",
        "#             nn.Dropout(0.3),\n",
        "#             nn.Linear(1024, 512),\n",
        "#             nn.BatchNorm1d(512),\n",
        "#             nn.ReLU(),\n",
        "#             nn.Dropout(0.3),\n",
        "#             nn.Linear(512, num_classes)\n",
        "#         )\n",
        "\n",
        "#     def forward(self, inp):\n",
        "#         return self.model(inp)\n"
      ],
      "metadata": {
        "id": "w1Klgvewd1c2"
      },
      "execution_count": 18,
      "outputs": []
    },
    {
      "cell_type": "code",
      "source": [
        "class FixedNeuralNetwork(nn.Module):\n",
        "    def __init__(self, input_shape=28*28, num_classes=10, input_channels=1):\n",
        "        super(self.__class__, self).__init__()\n",
        "        self.model = nn.Sequential(\n",
        "            nn.Flatten(),\n",
        "            nn.Linear(input_shape, 512),\n",
        "            nn.BatchNorm1d(512),\n",
        "            nn.ReLU(),\n",
        "            nn.Dropout(0.5),\n",
        "\n",
        "            nn.Linear(512, 256),\n",
        "            nn.BatchNorm1d(256),\n",
        "            nn.ReLU(),\n",
        "            nn.Dropout(0.5),\n",
        "\n",
        "            nn.Linear(256, num_classes)\n",
        "        )\n",
        "\n",
        "    def forward(self, inp):\n",
        "        return self.model(inp)\n"
      ],
      "metadata": {
        "id": "EGcNTeT02Eqn"
      },
      "execution_count": 18,
      "outputs": []
    },
    {
      "cell_type": "code",
      "execution_count": 19,
      "metadata": {
        "colab": {
          "base_uri": "https://localhost:8080/"
        },
        "id": "1hhS5ELdMTTX",
        "outputId": "4aadbbfa-bf79-460b-e35c-00e2f9997724"
      },
      "outputs": [
        {
          "output_type": "stream",
          "name": "stdout",
          "text": [
            "----------------------------------------------------------------\n",
            "        Layer (type)               Output Shape         Param #\n",
            "================================================================\n",
            "           Flatten-1                  [-1, 784]               0\n",
            "            Linear-2                  [-1, 512]         401,920\n",
            "       BatchNorm1d-3                  [-1, 512]           1,024\n",
            "              ReLU-4                  [-1, 512]               0\n",
            "           Dropout-5                  [-1, 512]               0\n",
            "            Linear-6                  [-1, 256]         131,328\n",
            "       BatchNorm1d-7                  [-1, 256]             512\n",
            "              ReLU-8                  [-1, 256]               0\n",
            "           Dropout-9                  [-1, 256]               0\n",
            "           Linear-10                   [-1, 10]           2,570\n",
            "================================================================\n",
            "Total params: 537,354\n",
            "Trainable params: 537,354\n",
            "Non-trainable params: 0\n",
            "----------------------------------------------------------------\n",
            "Input size (MB): 0.00\n",
            "Forward/backward pass size (MB): 0.03\n",
            "Params size (MB): 2.05\n",
            "Estimated Total Size (MB): 2.08\n",
            "----------------------------------------------------------------\n"
          ]
        }
      ],
      "source": [
        "torchsummary.summary(FixedNeuralNetwork().to(device), (28*28,))"
      ]
    },
    {
      "cell_type": "code",
      "source": [
        "# Инициализация модели, оптимизатора и функции потерь с Label Smoothing\n",
        "model = FixedNeuralNetwork().to(device)\n",
        "opt = torch.optim.AdamW(model.parameters(), lr=0.0003, weight_decay=0.02)  # Более агрессивная L2 регуляризация\n",
        "scheduler = torch.optim.lr_scheduler.ReduceLROnPlateau(opt, mode='max', factor=0.5, patience=3, verbose=True)\n",
        "loss_func = nn.CrossEntropyLoss(label_smoothing=0.1)  # Добавляем Label Smoothing"
      ],
      "metadata": {
        "colab": {
          "base_uri": "https://localhost:8080/"
        },
        "id": "FQtCtKXS2uMU",
        "outputId": "a9c160c7-e520-46e9-fd47-dcb19d7372ad"
      },
      "execution_count": 20,
      "outputs": [
        {
          "output_type": "stream",
          "name": "stderr",
          "text": [
            "/usr/local/lib/python3.10/dist-packages/torch/optim/lr_scheduler.py:62: UserWarning: The verbose parameter is deprecated. Please use get_last_lr() to access the learning rate.\n",
            "  warnings.warn(\n"
          ]
        }
      ]
    },
    {
      "cell_type": "code",
      "source": [
        "# Уменьшаем размер тренировочного датасета для ускорения переобучения\n",
        "reduced_train_size = 5000\n",
        "subset_indices = torch.randperm(len(fmnist_dataset_train))[:reduced_train_size]\n",
        "reduced_train_dataset = torch.utils.data.Subset(fmnist_dataset_train, subset_indices)\n",
        "reduced_train_loader = torch.utils.data.DataLoader(reduced_train_dataset,\n",
        "                                                 batch_size=256,  # Увеличенный размер батча\n",
        "                                                 shuffle=True,\n",
        "                                                 num_workers=2)"
      ],
      "metadata": {
        "id": "_V_D5SuaeF9w"
      },
      "execution_count": 21,
      "outputs": []
    },
    {
      "cell_type": "code",
      "source": [
        "# Параметры для early stopping\n",
        "best_acc = 0\n",
        "best_model_state = None\n",
        "patience = 5\n",
        "counter = 0"
      ],
      "metadata": {
        "id": "4uqa3W4Z2-f-"
      },
      "execution_count": 22,
      "outputs": []
    },
    {
      "cell_type": "code",
      "source": [
        "# Цикл обучения и валидации\n",
        "train_losses = []\n",
        "test_losses = []\n",
        "train_accs = []\n",
        "test_accs = []\n",
        "\n",
        "epochs = 20\n",
        "for epoch in range(epochs):\n",
        "    # Обучение\n",
        "    model.train()\n",
        "    running_loss = 0.0\n",
        "    correct = 0\n",
        "    total = 0\n",
        "\n",
        "    for inputs, labels in reduced_train_loader:\n",
        "        inputs, labels = inputs.to(device), labels.to(device)\n",
        "        opt.zero_grad()\n",
        "        outputs = model(inputs)\n",
        "        loss = loss_func(outputs, labels)\n",
        "        loss.backward()\n",
        "\n",
        "        # Gradient Clipping для дополнительной регуляризации\n",
        "        torch.nn.utils.clip_grad_norm_(model.parameters(), max_norm=1.0)\n",
        "\n",
        "        opt.step()\n",
        "\n",
        "        running_loss += loss.item()\n",
        "        _, predicted = outputs.max(1)\n",
        "        total += labels.size(0)\n",
        "        correct += predicted.eq(labels).sum().item()\n",
        "\n",
        "    train_loss = running_loss / len(reduced_train_loader)\n",
        "    train_acc = 100. * correct / total\n",
        "    train_losses.append(train_loss)\n",
        "    train_accs.append(train_acc)\n",
        "\n",
        "    # Валидация\n",
        "    model.eval()\n",
        "    test_loss = 0\n",
        "    correct = 0\n",
        "    total = 0\n",
        "\n",
        "    with torch.no_grad():\n",
        "        for inputs, labels in test_loader:\n",
        "            inputs, labels = inputs.to(device), labels.to(device)\n",
        "            outputs = model(inputs)\n",
        "            loss = loss_func(outputs, labels)\n",
        "\n",
        "            test_loss += loss.item()\n",
        "            _, predicted = outputs.max(1)\n",
        "            total += labels.size(0)\n",
        "            correct += predicted.eq(labels).sum().item()\n",
        "\n",
        "    test_loss = test_loss / len(test_loader)\n",
        "    test_acc = 100. * correct / total\n",
        "    test_losses.append(test_loss)\n",
        "    test_accs.append(test_acc)\n",
        "\n",
        "    # Learning rate scheduling\n",
        "    scheduler.step(test_acc)\n",
        "\n",
        "    # Early stopping\n",
        "    if test_acc > best_acc:\n",
        "        best_acc = test_acc\n",
        "        best_model_state = model.state_dict()\n",
        "        counter = 0\n",
        "    else:\n",
        "        counter += 1\n",
        "\n",
        "    if counter >= patience:\n",
        "        print(f'Early stopping на эпохе {epoch+1}')\n",
        "        print(f'Лучшая точность на валидации: {best_acc:.2f}%')\n",
        "        # Загружаем лучшую модель\n",
        "        model.load_state_dict(best_model_state)\n",
        "        break\n",
        "\n",
        "    print(f'Эпоха {epoch+1}/{epochs}:')\n",
        "    print(f'Потери на обучении: {train_loss:.4f} | Точность на обучении: {train_acc:.2f}%')\n",
        "    print(f'Потери на тесте: {test_loss:.4f} | Точность на тесте: {test_acc:.2f}%')\n",
        "    print('--------------------')\n"
      ],
      "metadata": {
        "colab": {
          "base_uri": "https://localhost:8080/"
        },
        "id": "pXPJDNVSeJ15",
        "outputId": "2d72c8c2-efe2-42e1-d4a4-ef3baa1a28a3"
      },
      "execution_count": 23,
      "outputs": [
        {
          "output_type": "stream",
          "name": "stdout",
          "text": [
            "Эпоха 1/20:\n",
            "Потери на обучении: 1.6331 | Точность на обучении: 52.04%\n",
            "Потери на тесте: 1.5409 | Точность на тесте: 70.10%\n",
            "--------------------\n",
            "Эпоха 2/20:\n",
            "Потери на обучении: 1.1585 | Точность на обучении: 73.04%\n",
            "Потери на тесте: 1.0849 | Точность на тесте: 76.99%\n",
            "--------------------\n",
            "Эпоха 3/20:\n",
            "Потери на обучении: 1.0422 | Точность на обучении: 77.96%\n",
            "Потери на тесте: 0.9739 | Точность на тесте: 79.85%\n",
            "--------------------\n",
            "Эпоха 4/20:\n",
            "Потери на обучении: 0.9777 | Точность на обучении: 81.02%\n",
            "Потери на тесте: 0.9283 | Точность на тесте: 81.31%\n",
            "--------------------\n",
            "Эпоха 5/20:\n",
            "Потери на обучении: 0.9395 | Точность на обучении: 82.14%\n",
            "Потери на тесте: 0.9080 | Точность на тесте: 81.82%\n",
            "--------------------\n",
            "Эпоха 6/20:\n",
            "Потери на обучении: 0.9155 | Точность на обучении: 83.46%\n",
            "Потери на тесте: 0.8943 | Точность на тесте: 82.69%\n",
            "--------------------\n",
            "Эпоха 7/20:\n",
            "Потери на обучении: 0.8979 | Точность на обучении: 83.88%\n",
            "Потери на тесте: 0.8903 | Точность на тесте: 82.67%\n",
            "--------------------\n",
            "Эпоха 8/20:\n",
            "Потери на обучении: 0.8805 | Точность на обучении: 85.02%\n",
            "Потери на тесте: 0.8745 | Точность на тесте: 83.69%\n",
            "--------------------\n",
            "Эпоха 9/20:\n",
            "Потери на обучении: 0.8650 | Точность на обучении: 85.96%\n",
            "Потери на тесте: 0.8931 | Точность на тесте: 82.53%\n",
            "--------------------\n",
            "Эпоха 10/20:\n",
            "Потери на обучении: 0.8517 | Точность на обучении: 86.32%\n",
            "Потери на тесте: 0.8628 | Точность на тесте: 83.97%\n",
            "--------------------\n",
            "Эпоха 11/20:\n",
            "Потери на обучении: 0.8443 | Точность на обучении: 87.10%\n",
            "Потери на тесте: 0.8720 | Точность на тесте: 83.68%\n",
            "--------------------\n",
            "Эпоха 12/20:\n",
            "Потери на обучении: 0.8338 | Точность на обучении: 87.20%\n",
            "Потери на тесте: 0.8624 | Точность на тесте: 83.95%\n",
            "--------------------\n",
            "Эпоха 13/20:\n",
            "Потери на обучении: 0.8194 | Точность на обучении: 88.46%\n",
            "Потери на тесте: 0.8681 | Точность на тесте: 83.55%\n",
            "--------------------\n",
            "Эпоха 14/20:\n",
            "Потери на обучении: 0.8188 | Точность на обучении: 88.02%\n",
            "Потери на тесте: 0.8781 | Точность на тесте: 83.04%\n",
            "--------------------\n",
            "Эпоха 15/20:\n",
            "Потери на обучении: 0.8025 | Точность на обучении: 88.80%\n",
            "Потери на тесте: 0.8575 | Точность на тесте: 84.51%\n",
            "--------------------\n",
            "Эпоха 16/20:\n",
            "Потери на обучении: 0.7838 | Точность на обучении: 89.54%\n",
            "Потери на тесте: 0.8456 | Точность на тесте: 84.58%\n",
            "--------------------\n",
            "Эпоха 17/20:\n",
            "Потери на обучении: 0.7782 | Точность на обучении: 90.44%\n",
            "Потери на тесте: 0.8460 | Точность на тесте: 84.65%\n",
            "--------------------\n",
            "Эпоха 18/20:\n",
            "Потери на обучении: 0.7776 | Точность на обучении: 89.84%\n",
            "Потери на тесте: 0.8502 | Точность на тесте: 84.82%\n",
            "--------------------\n",
            "Эпоха 19/20:\n",
            "Потери на обучении: 0.7779 | Точность на обучении: 89.88%\n",
            "Потери на тесте: 0.8439 | Точность на тесте: 84.83%\n",
            "--------------------\n",
            "Эпоха 20/20:\n",
            "Потери на обучении: 0.7702 | Точность на обучении: 90.32%\n",
            "Потери на тесте: 0.8439 | Точность на тесте: 84.78%\n",
            "--------------------\n"
          ]
        }
      ]
    },
    {
      "cell_type": "code",
      "source": [
        "# Визуализация результатов\n",
        "plt.figure(figsize=(12, 4))\n",
        "plt.subplot(1, 2, 1)\n",
        "plt.plot(train_losses, label='train')\n",
        "plt.plot(test_losses, label='test')\n",
        "plt.title('Loss')\n",
        "plt.legend()\n",
        "\n",
        "plt.subplot(1, 2, 2)\n",
        "plt.plot(train_accs, label='train')\n",
        "plt.plot(test_accs, label='test')\n",
        "plt.title('Accuracy')\n",
        "plt.legend()\n",
        "plt.show()"
      ],
      "metadata": {
        "colab": {
          "base_uri": "https://localhost:8080/",
          "height": 391
        },
        "id": "RuBMgMRc3TlS",
        "outputId": "70fafd19-9a75-420c-ed7a-6ffab9bddb6a"
      },
      "execution_count": 24,
      "outputs": [
        {
          "output_type": "display_data",
          "data": {
            "text/plain": [
              "<Figure size 1200x400 with 2 Axes>"
            ],
            "image/png": "[encoded data removed]"
          },
          "metadata": {}
        }
      ]
    },
    {
      "cell_type": "markdown",
      "source": [
        "Результаты показывают заметное улучшение в исключении переобучения:\n",
        "\n",
        "Положительные моменты:\n",
        "\n",
        "* Разрыв между train (90.32%) и test (84.78%) accuracy уменьшился до ~5.5%\n",
        "* Кривые обучения стали более гладкими, без резких скачков\n",
        "* Loss функции для train и test стали ближе друг к другу\n",
        "* Графики показывают более стабильное обучение\n",
        "\n",
        "Эффективность регуляризации:\n",
        "\n",
        "* Label Smoothing помог сделать функцию потерь более стабильной\n",
        "* Увеличенный dropout и weight_decay успешно борются с переобучением\n",
        "* Увеличенный размер батча помог стабилизировать процесс обучения"
      ],
      "metadata": {
        "id": "WojXLuMW6uoa"
      }
    },
    {
      "cell_type": "markdown",
      "metadata": {
        "id": "dMui_uLJ7G0d"
      },
      "source": [
        "### Conclusions:\n",
        "_Write down small report with your conclusions and your ideas._"
      ]
    },
    {
      "cell_type": "markdown",
      "source": [
        " Выводы:\n",
        "\n",
        "1. Task 1 (Достижение точности ≥0.885):\n",
        "- Достигнута точность 89.65% на тестовом наборе, что превышает требуемые 88.5%\n",
        "- Использована относительно простая архитектура с тремя полносвязными слоями\n",
        "- Наблюдался умеренный разрыв между обучающей (94.40%) и тестовой (89.65%) точностью (~4.75%)\n",
        "- Графики показали стабильное обучение без резких скачков\n",
        "- Модель демонстрирует хороший баланс между недообучением и переобучением\n",
        "\n",
        "2. Task 2 (Намеренное переобучение):\n",
        "- Успешно достигнуто переобучение путем:\n",
        "  - Увеличения сложности модели (больше слоев и параметров)\n",
        "  - Уменьшения размера обучающей выборки до 5000 примеров\n",
        "- Результаты показали явные признаки переобучения:\n",
        "  - Большой разрыв между обучающей (91.60%) и тестовой (83.70%) точностью (~8%)\n",
        "  - Нестабильные метрики на тестовом наборе с резкими скачками\n",
        "  - Постоянное уменьшение train loss при нестабильном test loss\n",
        "- Графики наглядно демонстрируют классический случай переобучения\n",
        "\n",
        "3. Task 3 (Борьба с переобучением):\n",
        "- Успешно применены методы регуляризации:\n",
        "  - Dropout (0.5)\n",
        "  - BatchNorm\n",
        "  - Label Smoothing (0.1)\n",
        "  - L2-регуляризация (weight_decay)\n",
        "- Достигнуты улучшения по сравнению с Task 2:\n",
        "  - Уменьшен разрыв между train (90.32%) и test (84.78%) точностью до ~5.5%\n",
        "  - Более стабильное поведение loss функции\n",
        "  - Отсутствие резких скачков в метриках\n",
        "  - Более плавные кривые обучения\n",
        "\n",
        "Общие наблюдения и выводы:\n",
        "1. Важность баланса архитектуры:\n",
        "- Простая модель (Task 1) может достичь хороших результатов без сильного переобучения\n",
        "- Сложная модель (Task 2) склонна к переобучению, особенно на малых данных\n",
        "- Правильная регуляризация (Task 3) позволяет использовать сложные модели эффективнее\n",
        "\n",
        "2. Эффективность методов регуляризации:\n",
        "- Комбинация различных методов регуляризации дает лучший результат\n",
        "- BatchNorm и Dropout особенно эффективны для стабилизации обучения\n",
        "- Label Smoothing помогает улучшить обобщающую способность модели\n",
        "\n",
        "3. Влияние размера данных:\n",
        "- Уменьшение размера обучающей выборки значительно усиливает переобучение\n",
        "- Регуляризация особенно важна при работе с малыми наборами данных\n",
        "\n",
        "4. Практические рекомендации:\n",
        "- Начинать с простых моделей и постепенно усложнять архитектуру\n",
        "- Использовать комбинацию методов регуляризации\n",
        "- Внимательно следить за разрывом между train и test метриками\n",
        "- Визуализировать процесс обучения для раннего обнаружения проблем\n",
        "\n",
        "Данная работа наглядно демонстрирует важность правильного баланса между сложностью модели и методами регуляризации для достижения оптимальной производительности в задачах машинного обучения."
      ],
      "metadata": {
        "id": "sL-4qTSr7uPw"
      }
    }
  ],
  "metadata": {
    "accelerator": "GPU",
    "colab": {
      "provenance": [],
      "include_colab_link": true
    },
    "kernelspec": {
      "display_name": "Python 3",
      "language": "python",
      "name": "python3"
    },
    "language_info": {
      "codemirror_mode": {
        "name": "ipython",
        "version": 3
      },
      "file_extension": ".py",
      "mimetype": "text/x-python",
      "name": "python",
      "nbconvert_exporter": "python",
      "pygments_lexer": "ipython3",
      "version": "3.7.7"
    }
  },
  "nbformat": 4,
  "nbformat_minor": 0
}